{
 "cells": [
  {
   "cell_type": "markdown",
   "id": "5525129d",
   "metadata": {},
   "source": [
    "# Movie Recommender System\n",
    "----\n",
    "\n",
    "A recommender system is a subclass of information filtering system that provides suggestions for items that are most pertinent to a particular user. Recommender systems are used in a variety of areas, with commonly recognised examples taking the form of playlist generators for video and music services, product recommenders for online stores, or content recommenders for social media platforms and open web content recommenders.\n",
    "\n",
    "## Collaborative Filtering\n",
    "---\n",
    "Collaborative filtering is based on the assumption that people who agreed in the past will agree in the future, and that they will like similar kinds of items as they liked in the past. The system generates recommendations using only information about rating profiles for different users or items. By locating peer users/items with a rating history similar to the current user or item, they generate recommendations using this neighborhood. We will build collaborative filtering systems using KNN, SVD, Deep Learning to recommend more relevant movies to users based on ratings. \n",
    "\n",
    "## Modeling Techniques: \n",
    "---\n",
    "\n",
    "- K Nearest Neighbour (KNN)\n",
    "- Singular Value Decomposition (SVD)\n",
    "- Deep Recommender System\n",
    "\n",
    "## Data Sets\n",
    "- MovieLens Datasets (https://grouplens.org/datasets/movielens/latest/)\n"
   ]
  },
  {
   "cell_type": "code",
   "execution_count": 1,
   "id": "c8ff7f65",
   "metadata": {},
   "outputs": [],
   "source": [
    "# import module\n",
    "import os\n",
    "import time\n",
    "import math\n",
    "import numpy as np\n",
    "import pandas as pd\n",
    "\n",
    "import seaborn as sns\n",
    "import matplotlib.pyplot as plt\n",
    "plt.style.use('ggplot')\n",
    "\n",
    "import warnings\n",
    "warnings.filterwarnings('ignore')\n",
    "\n",
    "from surprise import Dataset\n",
    "from surprise import Reader\n",
    "from surprise import KNNWithMeans\n",
    "from surprise import SVD\n",
    "from surprise import accuracy\n",
    "from scipy import sparse\n",
    "from scipy.sparse import csr_matrix\n",
    "from sklearn.utils.extmath import randomized_svd\n",
    "from sklearn.preprocessing import LabelEncoder\n",
    "from sklearn.model_selection import train_test_split\n",
    "from sklearn.metrics import mean_squared_error\n",
    "\n",
    "from keras.models import Model\n",
    "from keras.layers import Input, Reshape, Dot\n",
    "from keras.layers.embeddings import Embedding\n",
    "from tensorflow.keras.optimizers import Adam\n",
    "from keras.regularizers import l2\n",
    "from keras.layers import Add, Activation, Lambda\n",
    "\n",
    "%matplotlib inline"
   ]
  },
  {
   "cell_type": "markdown",
   "id": "6f611725",
   "metadata": {},
   "source": [
    "# 1. Load Data"
   ]
  },
  {
   "cell_type": "code",
   "execution_count": 2,
   "id": "ea8063ce",
   "metadata": {},
   "outputs": [
    {
     "name": "stdout",
     "output_type": "stream",
     "text": [
      "(62423, 3)\n",
      "movieId    0\n",
      "title      0\n",
      "genres     0\n",
      "dtype: int64\n"
     ]
    },
    {
     "data": {
      "text/html": [
       "<div>\n",
       "<style scoped>\n",
       "    .dataframe tbody tr th:only-of-type {\n",
       "        vertical-align: middle;\n",
       "    }\n",
       "\n",
       "    .dataframe tbody tr th {\n",
       "        vertical-align: top;\n",
       "    }\n",
       "\n",
       "    .dataframe thead th {\n",
       "        text-align: right;\n",
       "    }\n",
       "</style>\n",
       "<table border=\"1\" class=\"dataframe\">\n",
       "  <thead>\n",
       "    <tr style=\"text-align: right;\">\n",
       "      <th></th>\n",
       "      <th>movieId</th>\n",
       "      <th>title</th>\n",
       "      <th>genres</th>\n",
       "    </tr>\n",
       "  </thead>\n",
       "  <tbody>\n",
       "    <tr>\n",
       "      <th>0</th>\n",
       "      <td>1</td>\n",
       "      <td>Toy Story (1995)</td>\n",
       "      <td>Adventure|Animation|Children|Comedy|Fantasy</td>\n",
       "    </tr>\n",
       "    <tr>\n",
       "      <th>1</th>\n",
       "      <td>2</td>\n",
       "      <td>Jumanji (1995)</td>\n",
       "      <td>Adventure|Children|Fantasy</td>\n",
       "    </tr>\n",
       "    <tr>\n",
       "      <th>2</th>\n",
       "      <td>3</td>\n",
       "      <td>Grumpier Old Men (1995)</td>\n",
       "      <td>Comedy|Romance</td>\n",
       "    </tr>\n",
       "    <tr>\n",
       "      <th>3</th>\n",
       "      <td>4</td>\n",
       "      <td>Waiting to Exhale (1995)</td>\n",
       "      <td>Comedy|Drama|Romance</td>\n",
       "    </tr>\n",
       "    <tr>\n",
       "      <th>4</th>\n",
       "      <td>5</td>\n",
       "      <td>Father of the Bride Part II (1995)</td>\n",
       "      <td>Comedy</td>\n",
       "    </tr>\n",
       "  </tbody>\n",
       "</table>\n",
       "</div>"
      ],
      "text/plain": [
       "   movieId                               title  \\\n",
       "0        1                    Toy Story (1995)   \n",
       "1        2                      Jumanji (1995)   \n",
       "2        3             Grumpier Old Men (1995)   \n",
       "3        4            Waiting to Exhale (1995)   \n",
       "4        5  Father of the Bride Part II (1995)   \n",
       "\n",
       "                                        genres  \n",
       "0  Adventure|Animation|Children|Comedy|Fantasy  \n",
       "1                   Adventure|Children|Fantasy  \n",
       "2                               Comedy|Romance  \n",
       "3                         Comedy|Drama|Romance  \n",
       "4                                       Comedy  "
      ]
     },
     "execution_count": 2,
     "metadata": {},
     "output_type": "execute_result"
    }
   ],
   "source": [
    "# read movies\n",
    "movies = pd.read_csv('movies.csv')\n",
    "print(movies.shape)\n",
    "print(movies.isnull().sum())\n",
    "movies.head()"
   ]
  },
  {
   "cell_type": "code",
   "execution_count": 3,
   "id": "bd355a46",
   "metadata": {},
   "outputs": [
    {
     "name": "stdout",
     "output_type": "stream",
     "text": [
      "(25000095, 4)\n",
      "userId       0\n",
      "movieId      0\n",
      "rating       0\n",
      "timestamp    0\n",
      "dtype: int64\n"
     ]
    },
    {
     "data": {
      "text/html": [
       "<div>\n",
       "<style scoped>\n",
       "    .dataframe tbody tr th:only-of-type {\n",
       "        vertical-align: middle;\n",
       "    }\n",
       "\n",
       "    .dataframe tbody tr th {\n",
       "        vertical-align: top;\n",
       "    }\n",
       "\n",
       "    .dataframe thead th {\n",
       "        text-align: right;\n",
       "    }\n",
       "</style>\n",
       "<table border=\"1\" class=\"dataframe\">\n",
       "  <thead>\n",
       "    <tr style=\"text-align: right;\">\n",
       "      <th></th>\n",
       "      <th>userId</th>\n",
       "      <th>movieId</th>\n",
       "      <th>rating</th>\n",
       "      <th>timestamp</th>\n",
       "    </tr>\n",
       "  </thead>\n",
       "  <tbody>\n",
       "    <tr>\n",
       "      <th>0</th>\n",
       "      <td>1</td>\n",
       "      <td>296</td>\n",
       "      <td>5.0</td>\n",
       "      <td>1147880044</td>\n",
       "    </tr>\n",
       "    <tr>\n",
       "      <th>1</th>\n",
       "      <td>1</td>\n",
       "      <td>306</td>\n",
       "      <td>3.5</td>\n",
       "      <td>1147868817</td>\n",
       "    </tr>\n",
       "    <tr>\n",
       "      <th>2</th>\n",
       "      <td>1</td>\n",
       "      <td>307</td>\n",
       "      <td>5.0</td>\n",
       "      <td>1147868828</td>\n",
       "    </tr>\n",
       "    <tr>\n",
       "      <th>3</th>\n",
       "      <td>1</td>\n",
       "      <td>665</td>\n",
       "      <td>5.0</td>\n",
       "      <td>1147878820</td>\n",
       "    </tr>\n",
       "    <tr>\n",
       "      <th>4</th>\n",
       "      <td>1</td>\n",
       "      <td>899</td>\n",
       "      <td>3.5</td>\n",
       "      <td>1147868510</td>\n",
       "    </tr>\n",
       "  </tbody>\n",
       "</table>\n",
       "</div>"
      ],
      "text/plain": [
       "   userId  movieId  rating   timestamp\n",
       "0       1      296     5.0  1147880044\n",
       "1       1      306     3.5  1147868817\n",
       "2       1      307     5.0  1147868828\n",
       "3       1      665     5.0  1147878820\n",
       "4       1      899     3.5  1147868510"
      ]
     },
     "execution_count": 3,
     "metadata": {},
     "output_type": "execute_result"
    }
   ],
   "source": [
    "# read ratings\n",
    "ratings = pd.read_csv('ratings.csv')\n",
    "print(ratings.shape)\n",
    "print(ratings.isnull().sum())\n",
    "ratings.head()"
   ]
  },
  {
   "cell_type": "code",
   "execution_count": 4,
   "id": "dbaabe10",
   "metadata": {},
   "outputs": [
    {
     "name": "stdout",
     "output_type": "stream",
     "text": [
      "There are 162541 unique users and 59047 unique movies in this data set\n"
     ]
    }
   ],
   "source": [
    "num_users = len(ratings.userId.unique())\n",
    "num_items = len(ratings.movieId.unique())\n",
    "print('There are {} unique users and {} unique movies in this data set'.format(num_users, num_items))"
   ]
  },
  {
   "cell_type": "markdown",
   "id": "adaa05df",
   "metadata": {},
   "source": [
    "# 2. Data Preparation"
   ]
  },
  {
   "cell_type": "markdown",
   "id": "7bba603e",
   "metadata": {},
   "source": [
    "### Movie Publish Years\n",
    "\n",
    "- If publishing year is present, remove the brackets and keep integer representation of the year\n",
    "- Else, put 9999 as the year — an obvious indicator that year is missing"
   ]
  },
  {
   "cell_type": "code",
   "execution_count": 5,
   "id": "efc047d3",
   "metadata": {},
   "outputs": [
    {
     "name": "stdout",
     "output_type": "stream",
     "text": [
      "562\n"
     ]
    }
   ],
   "source": [
    "years = []\n",
    "\n",
    "for title in movies['title']:\n",
    "    year_subset = title[-5:-1]\n",
    "    try: years.append(int(year_subset))\n",
    "    except: years.append(9999)\n",
    "        \n",
    "movies['moviePubYear'] = years\n",
    "print(len(movies[movies['moviePubYear'] == 9999]))"
   ]
  },
  {
   "cell_type": "code",
   "execution_count": 6,
   "id": "c2dac353",
   "metadata": {},
   "outputs": [
    {
     "data": {
      "text/html": [
       "<div>\n",
       "<style scoped>\n",
       "    .dataframe tbody tr th:only-of-type {\n",
       "        vertical-align: middle;\n",
       "    }\n",
       "\n",
       "    .dataframe tbody tr th {\n",
       "        vertical-align: top;\n",
       "    }\n",
       "\n",
       "    .dataframe thead th {\n",
       "        text-align: right;\n",
       "    }\n",
       "</style>\n",
       "<table border=\"1\" class=\"dataframe\">\n",
       "  <thead>\n",
       "    <tr style=\"text-align: right;\">\n",
       "      <th></th>\n",
       "      <th>movieId</th>\n",
       "      <th>title</th>\n",
       "      <th>genres</th>\n",
       "      <th>moviePubYear</th>\n",
       "    </tr>\n",
       "  </thead>\n",
       "  <tbody>\n",
       "    <tr>\n",
       "      <th>0</th>\n",
       "      <td>1</td>\n",
       "      <td>Toy Story (1995)</td>\n",
       "      <td>Adventure|Animation|Children|Comedy|Fantasy</td>\n",
       "      <td>1995</td>\n",
       "    </tr>\n",
       "    <tr>\n",
       "      <th>1</th>\n",
       "      <td>2</td>\n",
       "      <td>Jumanji (1995)</td>\n",
       "      <td>Adventure|Children|Fantasy</td>\n",
       "      <td>1995</td>\n",
       "    </tr>\n",
       "    <tr>\n",
       "      <th>2</th>\n",
       "      <td>3</td>\n",
       "      <td>Grumpier Old Men (1995)</td>\n",
       "      <td>Comedy|Romance</td>\n",
       "      <td>1995</td>\n",
       "    </tr>\n",
       "    <tr>\n",
       "      <th>3</th>\n",
       "      <td>4</td>\n",
       "      <td>Waiting to Exhale (1995)</td>\n",
       "      <td>Comedy|Drama|Romance</td>\n",
       "      <td>1995</td>\n",
       "    </tr>\n",
       "    <tr>\n",
       "      <th>4</th>\n",
       "      <td>5</td>\n",
       "      <td>Father of the Bride Part II (1995)</td>\n",
       "      <td>Comedy</td>\n",
       "      <td>1995</td>\n",
       "    </tr>\n",
       "  </tbody>\n",
       "</table>\n",
       "</div>"
      ],
      "text/plain": [
       "   movieId                               title  \\\n",
       "0        1                    Toy Story (1995)   \n",
       "1        2                      Jumanji (1995)   \n",
       "2        3             Grumpier Old Men (1995)   \n",
       "3        4            Waiting to Exhale (1995)   \n",
       "4        5  Father of the Bride Part II (1995)   \n",
       "\n",
       "                                        genres  moviePubYear  \n",
       "0  Adventure|Animation|Children|Comedy|Fantasy          1995  \n",
       "1                   Adventure|Children|Fantasy          1995  \n",
       "2                               Comedy|Romance          1995  \n",
       "3                         Comedy|Drama|Romance          1995  \n",
       "4                                       Comedy          1995  "
      ]
     },
     "execution_count": 6,
     "metadata": {},
     "output_type": "execute_result"
    }
   ],
   "source": [
    "movies.head()"
   ]
  },
  {
   "cell_type": "markdown",
   "id": "631bb099",
   "metadata": {},
   "source": [
    "### Movie genre\n",
    "\n",
    "- Split the string on the pipe (|) character\n",
    "- Create a new entry for each genre"
   ]
  },
  {
   "cell_type": "code",
   "execution_count": 7,
   "id": "ac6d34c7",
   "metadata": {},
   "outputs": [],
   "source": [
    "genre_df = pd.DataFrame(movies['genres'].str.split('|').tolist(), index=movies['movieId']).stack()\n",
    "genre_df = genre_df.reset_index([0, 'movieId'])\n",
    "genre_df.columns = ['movieId', 'Genre']"
   ]
  },
  {
   "cell_type": "code",
   "execution_count": 8,
   "id": "1583bc2d",
   "metadata": {},
   "outputs": [
    {
     "data": {
      "text/html": [
       "<div>\n",
       "<style scoped>\n",
       "    .dataframe tbody tr th:only-of-type {\n",
       "        vertical-align: middle;\n",
       "    }\n",
       "\n",
       "    .dataframe tbody tr th {\n",
       "        vertical-align: top;\n",
       "    }\n",
       "\n",
       "    .dataframe thead th {\n",
       "        text-align: right;\n",
       "    }\n",
       "</style>\n",
       "<table border=\"1\" class=\"dataframe\">\n",
       "  <thead>\n",
       "    <tr style=\"text-align: right;\">\n",
       "      <th></th>\n",
       "      <th>movieId</th>\n",
       "      <th>Genre</th>\n",
       "    </tr>\n",
       "  </thead>\n",
       "  <tbody>\n",
       "    <tr>\n",
       "      <th>0</th>\n",
       "      <td>1</td>\n",
       "      <td>Adventure</td>\n",
       "    </tr>\n",
       "    <tr>\n",
       "      <th>1</th>\n",
       "      <td>1</td>\n",
       "      <td>Animation</td>\n",
       "    </tr>\n",
       "    <tr>\n",
       "      <th>2</th>\n",
       "      <td>1</td>\n",
       "      <td>Children</td>\n",
       "    </tr>\n",
       "    <tr>\n",
       "      <th>3</th>\n",
       "      <td>1</td>\n",
       "      <td>Comedy</td>\n",
       "    </tr>\n",
       "    <tr>\n",
       "      <th>4</th>\n",
       "      <td>1</td>\n",
       "      <td>Fantasy</td>\n",
       "    </tr>\n",
       "  </tbody>\n",
       "</table>\n",
       "</div>"
      ],
      "text/plain": [
       "   movieId      Genre\n",
       "0        1  Adventure\n",
       "1        1  Animation\n",
       "2        1   Children\n",
       "3        1     Comedy\n",
       "4        1    Fantasy"
      ]
     },
     "execution_count": 8,
     "metadata": {},
     "output_type": "execute_result"
    }
   ],
   "source": [
    "genre_df.head()"
   ]
  },
  {
   "cell_type": "markdown",
   "id": "f5ac5eed",
   "metadata": {},
   "source": [
    "# 3. Exploratory Data Analysis"
   ]
  },
  {
   "cell_type": "markdown",
   "id": "8a151a6a",
   "metadata": {},
   "source": [
    "## Frequency of ratings"
   ]
  },
  {
   "cell_type": "code",
   "execution_count": 9,
   "id": "37398eca",
   "metadata": {},
   "outputs": [
    {
     "data": {
      "image/png": "[encoded data removed]",
      "text/plain": [
       "<Figure size 1080x576 with 1 Axes>"
      ]
     },
     "metadata": {
      "needs_background": "light"
     },
     "output_type": "display_data"
    }
   ],
   "source": [
    "sns.countplot(data=ratings, x='rating')\n",
    "plt.gcf().set_size_inches(15, 8)\n",
    "plt.show()"
   ]
  },
  {
   "cell_type": "markdown",
   "id": "03cf744a",
   "metadata": {},
   "source": [
    "## Frequency of release years"
   ]
  },
  {
   "cell_type": "code",
   "execution_count": 10,
   "id": "4018ed95",
   "metadata": {},
   "outputs": [
    {
     "data": {
      "image/png": "[encoded data removed]",
      "text/plain": [
       "<Figure size 1080x576 with 1 Axes>"
      ]
     },
     "metadata": {
      "needs_background": "light"
     },
     "output_type": "display_data"
    }
   ],
   "source": [
    "sns.countplot(data=movies[movies['moviePubYear']>1930], x='moviePubYear')\n",
    "plt.gcf().set_size_inches(15, 8)\n",
    "plt.xticks(rotation = 90)\n",
    "plt.show()"
   ]
  },
  {
   "cell_type": "markdown",
   "id": "f7b1f566",
   "metadata": {},
   "source": [
    "## Frequency of Genre"
   ]
  },
  {
   "cell_type": "code",
   "execution_count": 11,
   "id": "5c58bc07",
   "metadata": {},
   "outputs": [
    {
     "data": {
      "image/png": "[encoded data removed]",
      "text/plain": [
       "<Figure size 1080x576 with 1 Axes>"
      ]
     },
     "metadata": {
      "needs_background": "light"
     },
     "output_type": "display_data"
    }
   ],
   "source": [
    "sns.countplot(data=genre_df, x='Genre', order = genre_df['Genre'].value_counts().index)\n",
    "plt.gcf().set_size_inches(15, 8)\n",
    "plt.xticks(rotation = 30)\n",
    "plt.show()"
   ]
  },
  {
   "cell_type": "markdown",
   "id": "6edaa049",
   "metadata": {},
   "source": [
    "## Ratings by Genre and Frequency"
   ]
  },
  {
   "cell_type": "code",
   "execution_count": 12,
   "id": "c04bee7a",
   "metadata": {},
   "outputs": [
    {
     "data": {
      "text/html": [
       "<div>\n",
       "<style scoped>\n",
       "    .dataframe tbody tr th:only-of-type {\n",
       "        vertical-align: middle;\n",
       "    }\n",
       "\n",
       "    .dataframe tbody tr th {\n",
       "        vertical-align: top;\n",
       "    }\n",
       "\n",
       "    .dataframe thead th {\n",
       "        text-align: right;\n",
       "    }\n",
       "</style>\n",
       "<table border=\"1\" class=\"dataframe\">\n",
       "  <thead>\n",
       "    <tr style=\"text-align: right;\">\n",
       "      <th></th>\n",
       "      <th>movieId</th>\n",
       "      <th>rating_mean</th>\n",
       "      <th>rating_count</th>\n",
       "    </tr>\n",
       "  </thead>\n",
       "  <tbody>\n",
       "    <tr>\n",
       "      <th>0</th>\n",
       "      <td>1</td>\n",
       "      <td>3.893708</td>\n",
       "      <td>57309</td>\n",
       "    </tr>\n",
       "    <tr>\n",
       "      <th>1</th>\n",
       "      <td>2</td>\n",
       "      <td>3.251527</td>\n",
       "      <td>24228</td>\n",
       "    </tr>\n",
       "    <tr>\n",
       "      <th>2</th>\n",
       "      <td>3</td>\n",
       "      <td>3.142028</td>\n",
       "      <td>11804</td>\n",
       "    </tr>\n",
       "    <tr>\n",
       "      <th>3</th>\n",
       "      <td>4</td>\n",
       "      <td>2.853547</td>\n",
       "      <td>2523</td>\n",
       "    </tr>\n",
       "    <tr>\n",
       "      <th>4</th>\n",
       "      <td>5</td>\n",
       "      <td>3.058434</td>\n",
       "      <td>11714</td>\n",
       "    </tr>\n",
       "  </tbody>\n",
       "</table>\n",
       "</div>"
      ],
      "text/plain": [
       "   movieId  rating_mean  rating_count\n",
       "0        1     3.893708         57309\n",
       "1        2     3.251527         24228\n",
       "2        3     3.142028         11804\n",
       "3        4     2.853547          2523\n",
       "4        5     3.058434         11714"
      ]
     },
     "execution_count": 12,
     "metadata": {},
     "output_type": "execute_result"
    }
   ],
   "source": [
    "rating_agg = ratings.groupby('movieId').agg({'rating':['mean', 'count']})\n",
    "rating_agg.columns = ['rating_mean', 'rating_count']\n",
    "rating_agg.reset_index(inplace=True)\n",
    "rating_agg.head()"
   ]
  },
  {
   "cell_type": "code",
   "execution_count": 13,
   "id": "c8e07513",
   "metadata": {},
   "outputs": [
    {
     "data": {
      "text/plain": [
       "Genre\n",
       "Documentary           3.382493\n",
       "Film-Noir             3.318142\n",
       "IMAX                  3.252121\n",
       "War                   3.246515\n",
       "Musical               3.200530\n",
       "Drama                 3.178996\n",
       "Romance               3.147095\n",
       "Animation             3.101145\n",
       "Crime                 3.092680\n",
       "(no genres listed)    3.048613\n",
       "Mystery               3.045787\n",
       "Comedy                3.041878\n",
       "Children              3.033051\n",
       "Western               3.025755\n",
       "Fantasy               3.020801\n",
       "Adventure             3.011600\n",
       "Thriller              2.944456\n",
       "Action                2.926390\n",
       "Sci-Fi                2.760530\n",
       "Horror                2.650740\n",
       "Name: rating_mean, dtype: float64"
      ]
     },
     "execution_count": 13,
     "metadata": {},
     "output_type": "execute_result"
    }
   ],
   "source": [
    "rating_genre = genre_df.merge(rating_agg[['movieId', 'rating_mean']], how='inner', on='movieId')\n",
    "rating_genre.groupby('Genre')['rating_mean'].mean().sort_values(ascending=False)"
   ]
  },
  {
   "cell_type": "markdown",
   "id": "cb9bacd3",
   "metadata": {},
   "source": [
    "Documentary, Film-Noir, IMAX have higher average ratings, while Sci-Fi and Horror have lower average ratings."
   ]
  },
  {
   "cell_type": "code",
   "execution_count": 14,
   "id": "1e18291e",
   "metadata": {},
   "outputs": [
    {
     "data": {
      "text/plain": [
       "<matplotlib.collections.PathCollection at 0x21eb402e460>"
      ]
     },
     "execution_count": 14,
     "metadata": {},
     "output_type": "execute_result"
    },
    {
     "data": {
      "image/png": "[encoded data removed]",
      "text/plain": [
       "<Figure size 1008x504 with 1 Axes>"
      ]
     },
     "metadata": {
      "needs_background": "light"
     },
     "output_type": "display_data"
    }
   ],
   "source": [
    "fig, ax = plt.subplots(figsize=(14, 7))\n",
    "ax.spines['top'].set_visible(False)\n",
    "ax.spines['right'].set_visible(False)\n",
    "ax.set_title('Rating vs. Number of Ratings', fontsize=24, pad=20)\n",
    "ax.set_xlabel('Rating', fontsize=16, labelpad=20)\n",
    "ax.set_ylabel('Number of Ratings', fontsize=16, labelpad=20)\n",
    "\n",
    "plt.scatter(rating_agg['rating_mean'], rating_agg['rating_count'], alpha=0.5)"
   ]
  },
  {
   "cell_type": "markdown",
   "id": "fa65be88",
   "metadata": {},
   "source": [
    "We can see that many movies don't have many ratings but the scatter plot shows a little bit of an upward pattern. This is because good and popular movies are watched by many users and they are more likely to give higher ratings."
   ]
  },
  {
   "cell_type": "markdown",
   "id": "d2b3e7c8",
   "metadata": {},
   "source": [
    "## Data Filtering"
   ]
  },
  {
   "cell_type": "markdown",
   "id": "291c7596",
   "metadata": {},
   "source": [
    "Movie ratings are very sparse and data points are mostly collected from very popular movies and highly engaged users. Large number of less known movies don’t have ratings at all."
   ]
  },
  {
   "cell_type": "code",
   "execution_count": 15,
   "id": "422933a3",
   "metadata": {},
   "outputs": [
    {
     "data": {
      "text/html": [
       "<div>\n",
       "<style scoped>\n",
       "    .dataframe tbody tr th:only-of-type {\n",
       "        vertical-align: middle;\n",
       "    }\n",
       "\n",
       "    .dataframe tbody tr th {\n",
       "        vertical-align: top;\n",
       "    }\n",
       "\n",
       "    .dataframe thead th {\n",
       "        text-align: right;\n",
       "    }\n",
       "</style>\n",
       "<table border=\"1\" class=\"dataframe\">\n",
       "  <thead>\n",
       "    <tr style=\"text-align: right;\">\n",
       "      <th></th>\n",
       "      <th>rating_count</th>\n",
       "    </tr>\n",
       "  </thead>\n",
       "  <tbody>\n",
       "    <tr>\n",
       "      <th>351</th>\n",
       "      <td>81491</td>\n",
       "    </tr>\n",
       "    <tr>\n",
       "      <th>314</th>\n",
       "      <td>81482</td>\n",
       "    </tr>\n",
       "    <tr>\n",
       "      <th>292</th>\n",
       "      <td>79672</td>\n",
       "    </tr>\n",
       "    <tr>\n",
       "      <th>585</th>\n",
       "      <td>74127</td>\n",
       "    </tr>\n",
       "    <tr>\n",
       "      <th>2480</th>\n",
       "      <td>72674</td>\n",
       "    </tr>\n",
       "    <tr>\n",
       "      <th>...</th>\n",
       "      <td>...</td>\n",
       "    </tr>\n",
       "    <tr>\n",
       "      <th>41343</th>\n",
       "      <td>1</td>\n",
       "    </tr>\n",
       "    <tr>\n",
       "      <th>41350</th>\n",
       "      <td>1</td>\n",
       "    </tr>\n",
       "    <tr>\n",
       "      <th>41354</th>\n",
       "      <td>1</td>\n",
       "    </tr>\n",
       "    <tr>\n",
       "      <th>41355</th>\n",
       "      <td>1</td>\n",
       "    </tr>\n",
       "    <tr>\n",
       "      <th>59046</th>\n",
       "      <td>1</td>\n",
       "    </tr>\n",
       "  </tbody>\n",
       "</table>\n",
       "<p>59047 rows × 1 columns</p>\n",
       "</div>"
      ],
      "text/plain": [
       "       rating_count\n",
       "351           81491\n",
       "314           81482\n",
       "292           79672\n",
       "585           74127\n",
       "2480          72674\n",
       "...             ...\n",
       "41343             1\n",
       "41350             1\n",
       "41354             1\n",
       "41355             1\n",
       "59046             1\n",
       "\n",
       "[59047 rows x 1 columns]"
      ]
     },
     "execution_count": 15,
     "metadata": {},
     "output_type": "execute_result"
    }
   ],
   "source": [
    "pd.DataFrame(rating_agg['rating_count'].sort_values(ascending=False))"
   ]
  },
  {
   "cell_type": "code",
   "execution_count": 16,
   "id": "e307ac31",
   "metadata": {},
   "outputs": [
    {
     "data": {
      "text/plain": [
       "Text(0, 0.5, 'number of ratings')"
      ]
     },
     "execution_count": 16,
     "metadata": {},
     "output_type": "execute_result"
    },
    {
     "data": {
      "image/png": "[encoded data removed]",
      "text/plain": [
       "<Figure size 864x576 with 1 Axes>"
      ]
     },
     "metadata": {
      "needs_background": "light"
     },
     "output_type": "display_data"
    }
   ],
   "source": [
    "# plot rating frequency of all movies\n",
    "ax = pd.DataFrame(rating_agg['rating_count']) \\\n",
    "    .sort_values('rating_count', ascending=False) \\\n",
    "    .reset_index(drop=True) \\\n",
    "    .plot(figsize=(12, 8),title='Rating Frequency of All Movies',fontsize=12)\n",
    "ax.set_xlabel(\"movie Id\")\n",
    "ax.set_ylabel(\"number of ratings\")"
   ]
  },
  {
   "cell_type": "code",
   "execution_count": 17,
   "id": "0b71f489",
   "metadata": {},
   "outputs": [
    {
     "data": {
      "text/plain": [
       "1.00    81491.0\n",
       "0.95     1503.4\n",
       "0.90      413.0\n",
       "0.85      152.0\n",
       "0.80       68.0\n",
       "0.75       36.0\n",
       "0.70       22.0\n",
       "0.65       14.0\n",
       "Name: rating_count, dtype: float64"
      ]
     },
     "execution_count": 17,
     "metadata": {},
     "output_type": "execute_result"
    }
   ],
   "source": [
    "rating_agg['rating_count'].quantile(np.arange(1, 0.6, -0.05))"
   ]
  },
  {
   "cell_type": "markdown",
   "id": "7be4b268",
   "metadata": {},
   "source": [
    "We can see that the majority of movies were barely rated by users. The movies that have less number of ratings can make the pattern more noisy so dropping them can improve recommendation quality. "
   ]
  },
  {
   "cell_type": "code",
   "execution_count": 18,
   "id": "539afd1a",
   "metadata": {},
   "outputs": [
    {
     "name": "stdout",
     "output_type": "stream",
     "text": [
      "shape of original ratings data:  (25000095, 4)\n",
      "shape of ratings data after dropping both unpopular movies:  (17052105, 4)\n"
     ]
    }
   ],
   "source": [
    "# filter data\n",
    "popularity_thres = 50\n",
    "popular_movies = list(rating_agg[rating_agg['rating_count'] >= popularity_thres].index)\n",
    "ratings_drop_movies = ratings[ratings['movieId'].isin(popular_movies)]\n",
    "print('shape of original ratings data: ', ratings.shape)\n",
    "print('shape of ratings data after dropping both unpopular movies: ', ratings_drop_movies.shape)"
   ]
  },
  {
   "cell_type": "markdown",
   "id": "5623fb4b",
   "metadata": {},
   "source": [
    "After dropping around 80% of movies in our dataset, we still have a very large dataset. So next we can filter users to further reduce the size of data"
   ]
  },
  {
   "cell_type": "code",
   "execution_count": 19,
   "id": "0013c740",
   "metadata": {},
   "outputs": [
    {
     "data": {
      "text/html": [
       "<div>\n",
       "<style scoped>\n",
       "    .dataframe tbody tr th:only-of-type {\n",
       "        vertical-align: middle;\n",
       "    }\n",
       "\n",
       "    .dataframe tbody tr th {\n",
       "        vertical-align: top;\n",
       "    }\n",
       "\n",
       "    .dataframe thead th {\n",
       "        text-align: right;\n",
       "    }\n",
       "</style>\n",
       "<table border=\"1\" class=\"dataframe\">\n",
       "  <thead>\n",
       "    <tr style=\"text-align: right;\">\n",
       "      <th></th>\n",
       "      <th>count</th>\n",
       "    </tr>\n",
       "    <tr>\n",
       "      <th>userId</th>\n",
       "      <th></th>\n",
       "    </tr>\n",
       "  </thead>\n",
       "  <tbody>\n",
       "    <tr>\n",
       "      <th>1</th>\n",
       "      <td>56</td>\n",
       "    </tr>\n",
       "    <tr>\n",
       "      <th>2</th>\n",
       "      <td>152</td>\n",
       "    </tr>\n",
       "    <tr>\n",
       "      <th>3</th>\n",
       "      <td>236</td>\n",
       "    </tr>\n",
       "    <tr>\n",
       "      <th>4</th>\n",
       "      <td>74</td>\n",
       "    </tr>\n",
       "    <tr>\n",
       "      <th>5</th>\n",
       "      <td>92</td>\n",
       "    </tr>\n",
       "  </tbody>\n",
       "</table>\n",
       "</div>"
      ],
      "text/plain": [
       "        count\n",
       "userId       \n",
       "1          56\n",
       "2         152\n",
       "3         236\n",
       "4          74\n",
       "5          92"
      ]
     },
     "execution_count": 19,
     "metadata": {},
     "output_type": "execute_result"
    }
   ],
   "source": [
    "# get number of ratings given by every user\n",
    "users_cnt = pd.DataFrame(ratings_drop_movies.groupby('userId').size(), columns=['count'])\n",
    "users_cnt.head()"
   ]
  },
  {
   "cell_type": "code",
   "execution_count": 20,
   "id": "efeb7f01",
   "metadata": {},
   "outputs": [
    {
     "data": {
      "text/plain": [
       "Text(0, 0.5, 'number of ratings')"
      ]
     },
     "execution_count": 20,
     "metadata": {},
     "output_type": "execute_result"
    },
    {
     "data": {
      "image/png": "[encoded data removed]",
      "text/plain": [
       "<Figure size 864x576 with 1 Axes>"
      ]
     },
     "metadata": {
      "needs_background": "light"
     },
     "output_type": "display_data"
    }
   ],
   "source": [
    "# plot rating frequency of all movies\n",
    "ax = users_cnt \\\n",
    "    .sort_values('count', ascending=False) \\\n",
    "    .reset_index(drop=True) \\\n",
    "    .plot(\n",
    "        figsize=(12, 8),\n",
    "        title='Rating Frequency of All Users',\n",
    "        fontsize=12\n",
    "    )\n",
    "ax.set_xlabel(\"userId\")\n",
    "ax.set_ylabel(\"number of ratings\")"
   ]
  },
  {
   "cell_type": "code",
   "execution_count": 21,
   "id": "64795e79",
   "metadata": {},
   "outputs": [
    {
     "data": {
      "text/plain": [
       "1.00    5295.0\n",
       "0.95     377.0\n",
       "0.90     244.0\n",
       "0.85     180.0\n",
       "0.80     141.0\n",
       "0.75     114.0\n",
       "0.70      95.0\n",
       "0.65      80.0\n",
       "0.60      68.0\n",
       "0.55      58.0\n",
       "0.50      51.0\n",
       "0.45      44.0\n",
       "0.40      39.0\n",
       "0.35      34.0\n",
       "0.30      30.0\n",
       "0.25      26.0\n",
       "Name: count, dtype: float64"
      ]
     },
     "execution_count": 21,
     "metadata": {},
     "output_type": "execute_result"
    }
   ],
   "source": [
    "users_cnt['count'].quantile(np.arange(1, 0.2, -0.05))"
   ]
  },
  {
   "cell_type": "markdown",
   "id": "e01f8513",
   "metadata": {},
   "source": [
    "We will remove the users who have rated less than 30 times.  "
   ]
  },
  {
   "cell_type": "code",
   "execution_count": 22,
   "id": "dd098cc1",
   "metadata": {},
   "outputs": [
    {
     "name": "stdout",
     "output_type": "stream",
     "text": [
      "shape of original ratings data:  (25000095, 4)\n",
      "shape of ratings data after dropping both unpopular books:  (14323309, 4)\n"
     ]
    }
   ],
   "source": [
    "# filter data\n",
    "ratings_thres = 60\n",
    "active_users = list(users_cnt[users_cnt['count'] >= ratings_thres].index)\n",
    "ratings_drop_users = ratings_drop_movies[ratings_drop_movies['userId'].isin(active_users)]\n",
    "print('shape of original ratings data: ', ratings.shape)\n",
    "print('shape of ratings data after dropping both unpopular books: ', ratings_drop_users.shape)"
   ]
  },
  {
   "cell_type": "code",
   "execution_count": 23,
   "id": "db95a71b",
   "metadata": {},
   "outputs": [
    {
     "data": {
      "text/plain": [
       "72134"
      ]
     },
     "execution_count": 23,
     "metadata": {},
     "output_type": "execute_result"
    }
   ],
   "source": [
    "len(ratings_drop_users['userId'].unique())"
   ]
  },
  {
   "cell_type": "code",
   "execution_count": 24,
   "id": "1a5f7fd5",
   "metadata": {},
   "outputs": [
    {
     "data": {
      "text/plain": [
       "7063"
      ]
     },
     "execution_count": 24,
     "metadata": {},
     "output_type": "execute_result"
    }
   ],
   "source": [
    "num_movie = len(ratings_drop_users['movieId'].unique())\n",
    "num_movie"
   ]
  },
  {
   "cell_type": "markdown",
   "id": "74e27c1b",
   "metadata": {},
   "source": [
    "# 4. Recommender Models"
   ]
  },
  {
   "cell_type": "markdown",
   "id": "b05b04fe",
   "metadata": {},
   "source": [
    "## Data Split"
   ]
  },
  {
   "cell_type": "code",
   "execution_count": 25,
   "id": "6cef0caa",
   "metadata": {},
   "outputs": [
    {
     "data": {
      "text/plain": [
       "((10026316, 4), (4296993, 4))"
      ]
     },
     "execution_count": 25,
     "metadata": {},
     "output_type": "execute_result"
    }
   ],
   "source": [
    "train_df ,test_df = train_test_split(ratings_drop_users, test_size=0.3, random_state=42)\n",
    "train_df.shape, test_df.shape"
   ]
  },
  {
   "cell_type": "markdown",
   "id": "8db4c19e",
   "metadata": {},
   "source": [
    "## Sparse Matrix\n",
    "If most of the elements of the matrix have 0 value, it is called a sparse matrix. The two major benefits of using sparse matrix instead of a simple matrix are:\n",
    "\n",
    "- Storage: There are lesser non-zero elements than zeros and thus lesser memory can be used to store only those elements.\n",
    "- Computing time: Computing time can be saved by logically designing a data structure traversing only non-zero elements."
   ]
  },
  {
   "cell_type": "code",
   "execution_count": 26,
   "id": "a3e99ed9",
   "metadata": {},
   "outputs": [],
   "source": [
    "# creating sparse matrix representation our dataframes\n",
    "test_sparse_matrix = sparse.csr_matrix((test_df['rating'].values, (test_df['userId'].values,\n",
    "                                               test_df['movieId'].values)))\n",
    "\n",
    "train_sparse_matrix = sparse.csr_matrix((train_df['rating'].values, (train_df['userId'].values,\n",
    "                                               train_df['movieId'].values)))"
   ]
  },
  {
   "cell_type": "code",
   "execution_count": 27,
   "id": "bbb1c89d",
   "metadata": {},
   "outputs": [],
   "source": [
    "def check_sparsity(sparse_matrix):\n",
    "    '''returns sparisty of matrix'''\n",
    "    us,mv = sparse_matrix.shape\n",
    "    elem = sparse_matrix.count_nonzero()\n",
    "    sparsity = np.round((1-(elem/(us*mv))) * 100,4)\n",
    "    return sparsity"
   ]
  },
  {
   "cell_type": "code",
   "execution_count": 28,
   "id": "eef265a2",
   "metadata": {},
   "outputs": [
    {
     "name": "stdout",
     "output_type": "stream",
     "text": [
      "Sparsity of Train matrix : 99.8942 % | Sparsity of Test Matrix : 99.9547 %\n"
     ]
    }
   ],
   "source": [
    "# checking sparsity of train and test matrix\n",
    "print(\"Sparsity of Train matrix : {} % | Sparsity of Test Matrix : {} %\".format(check_sparsity(train_sparse_matrix),check_sparsity(test_sparse_matrix)))"
   ]
  },
  {
   "cell_type": "code",
   "execution_count": 29,
   "id": "06bb372c",
   "metadata": {},
   "outputs": [],
   "source": [
    "reader = Reader(rating_scale=(0,5))\n",
    "# create the traindata from the dataframe...\n",
    "train_data = Dataset.load_from_df(train_df[['userId','movieId','rating']], reader)\n",
    "# build the trainset from traindata.., It is of dataset format from surprise library..\n",
    "trainset = train_data.build_full_trainset() \n",
    "testset = list(zip(test_df['userId'].values, test_df['movieId'].values, test_df['rating'].values))"
   ]
  },
  {
   "cell_type": "markdown",
   "id": "a0ab2df7",
   "metadata": {},
   "source": [
    "## K Nearest Neighbour (KNN)"
   ]
  },
  {
   "cell_type": "markdown",
   "id": "726ec2fa",
   "metadata": {},
   "source": [
    "We will use KNN with the option \"user_based: False\" to use item-based similarity, so that we are predicting the unknown ratings of item-based on similar items with known ratings. Cosine similarity is preferred instead of Euclidean distance, because it suffers less when the dataset is high in dimensionality."
   ]
  },
  {
   "cell_type": "code",
   "execution_count": 30,
   "id": "32c0b84c",
   "metadata": {},
   "outputs": [],
   "source": [
    "# KNN Recommender\n",
    "similarity = {\n",
    "    \"name\": \"cosine\",\n",
    "    \"user_based\": False,  # item-based similarity\n",
    "}\n",
    "algo_KNN = KNNWithMeans(sim_options = similarity)\n",
    "\n",
    "def top_recommendations_KNN(userId, top_N):\n",
    "    algo_KNN.fit(trainset)\n",
    "    test_output = algo_KNN.test(testset)\n",
    "    test_df = pd.DataFrame(test_output)\n",
    "    print(test_df.head())\n",
    "    print(\"RMSE -\",\"algo_KNN\", accuracy.rmse(test_output, verbose=False))\n",
    "    print(\"MAE -\", \"algo_KNN\", accuracy.mae(test_output, verbose=False))\n",
    "    print(\"MSE -\", \"algo_KNN\", accuracy.mse(test_output, verbose=False))\n",
    "    \n",
    "    ## Remove the movies already watched by the user\n",
    "    movies_watched_by_user = ratings_drop_users[ratings_drop_users.userId == userId]\n",
    "    movies_not_watched = movies[~movies[\"movieId\"].isin(movies_watched_by_user.movieId.values)][\"movieId\"]\n",
    "    \n",
    "    ## KNN predictions\n",
    "    pred_list = []\n",
    "    for movieId in list(movies_not_watched):\n",
    "        rating = algo_KNN.predict(userId, movieId).est\n",
    "        pred_list.append([userId, movieId, rating])\n",
    "    pred_df = pd.DataFrame(pred_list, columns = ['userId', 'movieId', 'rating'])\n",
    "\n",
    "    recommended_movie = pd.merge(pred_df, movies, how='left', left_on='movieId', right_on='movieId')\n",
    "    sorted_df = recommended_movie.groupby(('userId'), as_index = False).apply(lambda x: x.sort_values(['rating'], ascending = False)).reset_index(drop=True)\n",
    "    top_recommended_movies = sorted_df.groupby('userId').head(top_N)\n",
    "    \n",
    "    print(\"Showing recommendations for user: {}\".format(userId))\n",
    "    print(\"====\" * 9)\n",
    "    print(\"Movies with high ratings from user\")\n",
    "    print(\"----\" * 8)\n",
    "    top_movies_user = (movies_watched_by_user.sort_values(by=\"rating\", ascending=False).head(5).movieId.values)\n",
    "    movies_rows = movies[movies[\"movieId\"].isin(top_movies_user)]\n",
    "    for row in movies_rows.itertuples():\n",
    "        print(row.title, \":\", row.genres)\n",
    "\n",
    "    print(\"----\" * 8)\n",
    "    print(\"Top 10 movie recommendations\")\n",
    "    print(\"----\" * 8)\n",
    "    for row in top_recommended_movies.itertuples():\n",
    "        print(row.title, \":\", row.genres)    "
   ]
  },
  {
   "cell_type": "code",
   "execution_count": 31,
   "id": "5f9393d2",
   "metadata": {},
   "outputs": [
    {
     "name": "stdout",
     "output_type": "stream",
     "text": [
      "Computing the cosine similarity matrix...\n",
      "Done computing similarity matrix.\n",
      "      uid   iid  r_ui       est                                    details\n",
      "0  116413  2284   4.0  3.673640  {'actual_k': 40, 'was_impossible': False}\n",
      "1   79407   235   5.0  3.758159  {'actual_k': 40, 'was_impossible': False}\n",
      "2   68322  4034   4.0  4.018046  {'actual_k': 40, 'was_impossible': False}\n",
      "3    5017   357   3.0  3.262016  {'actual_k': 40, 'was_impossible': False}\n",
      "4   17302  1625   3.0  3.405520  {'actual_k': 40, 'was_impossible': False}\n",
      "RMSE - algo_KNN 0.8205367585820917\n",
      "MAE - algo_KNN 0.6248171744557052\n",
      "MSE - algo_KNN 0.673280572184406\n",
      "Showing recommendations for user: 2\n",
      "====================================\n",
      "Movies with high ratings from user\n",
      "--------------------------------\n",
      "Monty Python and the Holy Grail (1975) : Adventure|Comedy|Fantasy\n",
      "Star Wars: Episode V - The Empire Strikes Back (1980) : Action|Adventure|Sci-Fi\n",
      "Princess Bride, The (1987) : Action|Adventure|Comedy|Fantasy|Romance\n",
      "Indiana Jones and the Last Crusade (1989) : Action|Adventure\n",
      "Hoosiers (a.k.a. Best Shot) (1986) : Drama|Romance\n",
      "--------------------------------\n",
      "Top 10 movie recommendations\n",
      "--------------------------------\n",
      "Hijacking Catastrophe: 9/11, Fear & the Selling of American Empire (2004) : Documentary\n",
      "One More Kiss (1999) : Drama|Romance\n",
      "Love Life (2001) : Comedy|Romance\n",
      "Dr. Strangelove or: How I Learned to Stop Worrying and Love the Bomb (1964) : Comedy|War\n",
      "12 Angry Men (1957) : Drama\n",
      "Fight Club (1999) : Action|Crime|Drama|Thriller\n",
      "American History X (1998) : Crime|Drama\n",
      "Nausicaä of the Valley of the Wind (Kaze no tani no Naushika) (1984) : Adventure|Animation|Drama|Fantasy|Sci-Fi\n",
      "Wallace & Gromit: The Best of Aardman Animation (1996) : Adventure|Animation|Comedy\n",
      "Dog Run (1996) : Drama\n"
     ]
    }
   ],
   "source": [
    "## KNN predictions\n",
    "top_recommendations_KNN(2,10)"
   ]
  },
  {
   "cell_type": "markdown",
   "id": "4e1009fc",
   "metadata": {},
   "source": [
    "## Singular Value Decomposition (SVM)"
   ]
  },
  {
   "cell_type": "markdown",
   "id": "7e90849f",
   "metadata": {},
   "source": [
    "Singular Value Decomposition is a matrix factorization technique that decomposes the user-item interaction matrix into the product of two lower dimensionality rectangular matrices, and then extracts the latent features from highest importance to lowest. "
   ]
  },
  {
   "cell_type": "code",
   "execution_count": 32,
   "id": "d6359773",
   "metadata": {},
   "outputs": [],
   "source": [
    "# SVD Recommender\n",
    "algo_SVD = SVD()\n",
    "\n",
    "def top_recommendations_SVD(userId, top_N):\n",
    "    algo_SVD.fit(trainset)\n",
    "    test_output = algo_SVD.test(testset)\n",
    "    test_df = pd.DataFrame(test_output)\n",
    "    print(test_df.head())\n",
    "    print(\"RMSE -\",\"algo_SVD\", accuracy.rmse(test_output, verbose=False))\n",
    "    print(\"MAE -\", \"algo_SVD\", accuracy.mae(test_output, verbose=False))\n",
    "    print(\"MSE -\", \"algo_SVD\", accuracy.mse(test_output, verbose=False))\n",
    "    \n",
    "    ## Remove the movies already watched by the user\n",
    "    movies_watched_by_user = ratings_drop_users[ratings_drop_users.userId == userId]\n",
    "    movies_not_watched = movies[~movies[\"movieId\"].isin(movies_watched_by_user.movieId.values)][\"movieId\"]\n",
    "    \n",
    "    ## SVD predictions\n",
    "    pred_list = []\n",
    "    for movieId in list(movies_not_watched):\n",
    "        rating = algo_SVD.predict(userId, movieId).est\n",
    "        pred_list.append([userId, movieId, rating])\n",
    "    pred_df = pd.DataFrame(pred_list, columns = ['userId', 'movieId', 'rating'])\n",
    "\n",
    "    recommended_movie = pd.merge(pred_df, movies, how='left', left_on='movieId', right_on='movieId')\n",
    "    sorted_df = recommended_movie.groupby(('userId'), as_index = False).apply(lambda x: x.sort_values(['rating'], ascending = False)).reset_index(drop=True)\n",
    "    top_recommended_movies = sorted_df.groupby('userId').head(top_N)\n",
    "\n",
    "    print(\"Showing recommendations for user: {}\".format(userId))\n",
    "    print(\"====\" * 9)\n",
    "    print(\"Movies with high ratings from user\")\n",
    "    print(\"----\" * 8)\n",
    "    top_movies_user = (movies_watched_by_user.sort_values(by=\"rating\", ascending=False).head(5).movieId.values)\n",
    "    movies_rows = movies[movies[\"movieId\"].isin(top_movies_user)]\n",
    "    for row in movies_rows.itertuples():\n",
    "        print(row.title, \":\", row.genres)\n",
    "\n",
    "    print(\"----\" * 8)\n",
    "    print(\"Top 10 movie recommendations\")\n",
    "    print(\"----\" * 8)\n",
    "    for row in top_recommended_movies.itertuples():\n",
    "        print(row.title, \":\", row.genres)    "
   ]
  },
  {
   "cell_type": "code",
   "execution_count": 34,
   "id": "80a87375",
   "metadata": {},
   "outputs": [
    {
     "name": "stdout",
     "output_type": "stream",
     "text": [
      "      uid   iid  r_ui       est                    details\n",
      "0  116413  2284   4.0  3.377319  {'was_impossible': False}\n",
      "1   79407   235   5.0  3.923424  {'was_impossible': False}\n",
      "2   68322  4034   4.0  4.130748  {'was_impossible': False}\n",
      "3    5017   357   3.0  3.316386  {'was_impossible': False}\n",
      "4   17302  1625   3.0  3.397387  {'was_impossible': False}\n",
      "RMSE - algo_SVD 0.7762712248609028\n",
      "MAE - algo_SVD 0.5921293117644975\n",
      "MSE - algo_SVD 0.6025970145470463\n",
      "Showing recommendations for user: 2\n",
      "====================================\n",
      "Movies with high ratings from user\n",
      "--------------------------------\n",
      "Monty Python and the Holy Grail (1975) : Adventure|Comedy|Fantasy\n",
      "Star Wars: Episode V - The Empire Strikes Back (1980) : Action|Adventure|Sci-Fi\n",
      "Princess Bride, The (1987) : Action|Adventure|Comedy|Fantasy|Romance\n",
      "Indiana Jones and the Last Crusade (1989) : Action|Adventure\n",
      "Hoosiers (a.k.a. Best Shot) (1986) : Drama|Romance\n",
      "--------------------------------\n",
      "Top 10 movie recommendations\n",
      "--------------------------------\n",
      "Wallace & Gromit: The Best of Aardman Animation (1996) : Adventure|Animation|Comedy\n",
      "Wallace & Gromit: A Close Shave (1995) : Animation|Children|Comedy\n",
      "Wallace & Gromit: The Wrong Trousers (1993) : Animation|Children|Comedy|Crime\n",
      "Grand Day Out with Wallace and Gromit, A (1989) : Adventure|Animation|Children|Comedy|Sci-Fi\n",
      "Nine Queens (Nueve reinas) (2000) : Crime|Thriller\n",
      "Arsenic and Old Lace (1944) : Comedy|Mystery|Thriller\n",
      "Kiss Me Kate (1953) : Comedy|Musical|Romance\n",
      "Man for All Seasons, A (1966) : Drama\n",
      "Monty Python Live at the Hollywood Bowl (1982) : Comedy\n",
      "Father Goose (1964) : Adventure|Comedy|Romance|War\n"
     ]
    }
   ],
   "source": [
    "## SVD predictions\n",
    "top_recommendations_SVD(2,10)"
   ]
  },
  {
   "cell_type": "markdown",
   "id": "f518c7eb",
   "metadata": {},
   "source": [
    "## Deep Recommender System"
   ]
  },
  {
   "cell_type": "markdown",
   "id": "7a996b5e",
   "metadata": {},
   "source": [
    "An embedding is a low-dimensional space that captures the relationship of vectors from a higher dimensional space. The inputs to the model are the one-hot encoded user and item vectors for userId and movieId. Then, the user input vector and item input vector are fed to the user embedding and item embedding respectively, which results in a smaller, denser user and item vectors.\n",
    "\n",
    "The embedded user and item vectors are concatenated before passing through a series of fully connected layers, which maps the concatenated embeddings into a prediction vector as output."
   ]
  },
  {
   "cell_type": "code",
   "execution_count": 35,
   "id": "a0b76dc2",
   "metadata": {},
   "outputs": [
    {
     "name": "stdout",
     "output_type": "stream",
     "text": [
      "72134 7063 0.5 5.0\n"
     ]
    }
   ],
   "source": [
    "# encode the users\n",
    "user_enc = LabelEncoder()\n",
    "ratings_drop_users['user'] = user_enc.fit_transform(ratings_drop_users['userId'].values)\n",
    "n_users = ratings_drop_users['user'].nunique()\n",
    "user_enc_mapping = dict(zip(user_enc.classes_, user_enc.transform(user_enc.classes_)))\n",
    "\n",
    "# encode the movies\n",
    "item_enc = LabelEncoder()\n",
    "ratings_drop_users['movie'] = item_enc.fit_transform(ratings_drop_users['movieId'].values)\n",
    "n_movies = ratings_drop_users['movie'].nunique()\n",
    "item_enc_mapping = dict(zip(item_enc.classes_, item_enc.transform(item_enc.classes_)))\n",
    "\n",
    "ratings_drop_users['rating'] = ratings_drop_users['rating'].values.astype(np.float32)\n",
    "\n",
    "# stats\n",
    "min_rating = min(ratings_drop_users['rating'])\n",
    "max_rating = max(ratings_drop_users['rating'])\n",
    "\n",
    "print(n_users, n_movies, min_rating, max_rating)"
   ]
  },
  {
   "cell_type": "code",
   "execution_count": 36,
   "id": "e6de6449",
   "metadata": {},
   "outputs": [
    {
     "data": {
      "text/plain": [
       "((10026316, 2), (4296993, 2), (10026316,), (4296993,))"
      ]
     },
     "execution_count": 36,
     "metadata": {},
     "output_type": "execute_result"
    }
   ],
   "source": [
    "X = ratings_drop_users[['user', 'movie']].values\n",
    "y = ratings_drop_users['rating'].values\n",
    "X_train, X_test, y_train, y_test = train_test_split(X, y, test_size=0.3, random_state=42)\n",
    "X_train.shape, X_test.shape, y_train.shape, y_test.shape # looks good!"
   ]
  },
  {
   "cell_type": "code",
   "execution_count": 37,
   "id": "f9527409",
   "metadata": {},
   "outputs": [
    {
     "data": {
      "text/plain": [
       "array([[ 3159,  1424],\n",
       "       [58767,  1992],\n",
       "       [43862,   158],\n",
       "       ...,\n",
       "       [50550,  2911],\n",
       "       [32772,  5961],\n",
       "       [32151,  1144]], dtype=int64)"
      ]
     },
     "execution_count": 37,
     "metadata": {},
     "output_type": "execute_result"
    }
   ],
   "source": [
    "X_train"
   ]
  },
  {
   "cell_type": "markdown",
   "id": "04b3ca43",
   "metadata": {},
   "source": [
    "### Formatting as Arrays\n",
    "The way we will build the Deep Recommender requires that the USER ID and the MOVIE ID both be fed as separate arrays. They will be pushed together as two entries in a list. Look below."
   ]
  },
  {
   "cell_type": "code",
   "execution_count": 38,
   "id": "a4d7b71f",
   "metadata": {},
   "outputs": [],
   "source": [
    "n_factors = 100\n",
    "X_train_array = [X_train[:, 0], X_train[:, 1]]\n",
    "X_test_array = [X_test[:, 0], X_test[:, 1]]\n",
    "\n",
    "# 0 is user, 1 is movie - need to use integers because we are slicing arrays"
   ]
  },
  {
   "cell_type": "code",
   "execution_count": 39,
   "id": "f2bf3b70",
   "metadata": {},
   "outputs": [
    {
     "data": {
      "text/plain": [
       "[array([ 3159, 58767, 43862, ..., 50550, 32772, 32151], dtype=int64),\n",
       " array([1424, 1992,  158, ..., 2911, 5961, 1144], dtype=int64)]"
      ]
     },
     "execution_count": 39,
     "metadata": {},
     "output_type": "execute_result"
    }
   ],
   "source": [
    "X_train_array"
   ]
  },
  {
   "cell_type": "code",
   "execution_count": 40,
   "id": "e348a34b",
   "metadata": {},
   "outputs": [
    {
     "name": "stdout",
     "output_type": "stream",
     "text": [
      "Model: \"model\"\n",
      "__________________________________________________________________________________________________\n",
      " Layer (type)                   Output Shape         Param #     Connected to                     \n",
      "==================================================================================================\n",
      " input_1 (InputLayer)           [(None, 1)]          0           []                               \n",
      "                                                                                                  \n",
      " input_2 (InputLayer)           [(None, 1)]          0           []                               \n",
      "                                                                                                  \n",
      " embedding (Embedding)          (None, 1, 100)       7213400     ['input_1[0][0]']                \n",
      "                                                                                                  \n",
      " embedding_2 (Embedding)        (None, 1, 100)       706300      ['input_2[0][0]']                \n",
      "                                                                                                  \n",
      " reshape (Reshape)              (None, 100)          0           ['embedding[0][0]']              \n",
      "                                                                                                  \n",
      " reshape_2 (Reshape)            (None, 100)          0           ['embedding_2[0][0]']            \n",
      "                                                                                                  \n",
      " embedding_1 (Embedding)        (None, 1, 1)         72134       ['input_1[0][0]']                \n",
      "                                                                                                  \n",
      " embedding_3 (Embedding)        (None, 1, 1)         7063        ['input_2[0][0]']                \n",
      "                                                                                                  \n",
      " dot (Dot)                      (None, 1)            0           ['reshape[0][0]',                \n",
      "                                                                  'reshape_2[0][0]']              \n",
      "                                                                                                  \n",
      " reshape_1 (Reshape)            (None, 1)            0           ['embedding_1[0][0]']            \n",
      "                                                                                                  \n",
      " reshape_3 (Reshape)            (None, 1)            0           ['embedding_3[0][0]']            \n",
      "                                                                                                  \n",
      " add (Add)                      (None, 1)            0           ['dot[0][0]',                    \n",
      "                                                                  'reshape_1[0][0]',              \n",
      "                                                                  'reshape_3[0][0]']              \n",
      "                                                                                                  \n",
      " activation (Activation)        (None, 1)            0           ['add[0][0]']                    \n",
      "                                                                                                  \n",
      " lambda (Lambda)                (None, 1)            0           ['activation[0][0]']             \n",
      "                                                                                                  \n",
      "==================================================================================================\n",
      "Total params: 7,998,897\n",
      "Trainable params: 7,998,897\n",
      "Non-trainable params: 0\n",
      "__________________________________________________________________________________________________\n"
     ]
    }
   ],
   "source": [
    "from keras.models import Model\n",
    "from keras.layers import Input, Reshape, Dot\n",
    "from keras.layers.embeddings import Embedding\n",
    "from tensorflow.keras.optimizers import Adam\n",
    "from keras.regularizers import l2\n",
    "from keras.layers import Add, Activation, Lambda\n",
    "\n",
    "class EmbeddingLayer:\n",
    "    def __init__(self, n_items, n_factors):\n",
    "        self.n_items = n_items\n",
    "        self.n_factors = n_factors\n",
    "    \n",
    "    def __call__(self, x):\n",
    "        x = Embedding(self.n_items, self.n_factors, embeddings_initializer='he_normal',\n",
    "                      embeddings_regularizer=l2(1e-6))(x)\n",
    "        x = Reshape((self.n_factors,))(x)\n",
    "        return x\n",
    "def RecommenderV2(n_users, n_movies, n_factors, min_rating, max_rating):\n",
    "    user = Input(shape=(1,))\n",
    "    u = EmbeddingLayer(n_users, n_factors)(user)\n",
    "    ub = EmbeddingLayer(n_users, 1)(user)\n",
    "    movie = Input(shape=(1,))\n",
    "    m = EmbeddingLayer(n_movies, n_factors)(movie)\n",
    "    mb = EmbeddingLayer(n_movies, 1)(movie)\n",
    "    x = Dot(axes=1)([u, m])\n",
    "    x = Add()([x, ub, mb])\n",
    "    x = Activation('sigmoid')(x)\n",
    "    x = Lambda(lambda x: x * (max_rating - min_rating) + min_rating)(x)\n",
    "    model = Model(inputs=[user, movie], outputs=x)\n",
    "    opt = Adam(lr=0.001)\n",
    "    model.compile(loss='mean_squared_error', optimizer=opt)\n",
    "    return model\n",
    "\n",
    "model = RecommenderV2(n_users, n_movies, n_factors, min_rating, max_rating)\n",
    "model.summary()"
   ]
  },
  {
   "cell_type": "code",
   "execution_count": 41,
   "id": "13e6a4af",
   "metadata": {},
   "outputs": [
    {
     "name": "stdout",
     "output_type": "stream",
     "text": [
      "Epoch 1/200\n",
      "4896/4896 [==============================] - 398s 81ms/step - loss: 0.8029 - val_loss: 0.6894\n",
      "Epoch 2/200\n",
      "4896/4896 [==============================] - 398s 81ms/step - loss: 0.6505 - val_loss: 0.6559\n",
      "Epoch 3/200\n",
      "4896/4896 [==============================] - 397s 81ms/step - loss: 0.5986 - val_loss: 0.6540\n",
      "Epoch 4/200\n",
      "4896/4896 [==============================] - 397s 81ms/step - loss: 0.5518 - val_loss: 0.6726\n",
      "Epoch 5/200\n",
      "4896/4896 [==============================] - 400s 82ms/step - loss: 0.5145 - val_loss: 0.7008\n",
      "Epoch 6/200\n",
      "4896/4896 [==============================] - 397s 81ms/step - loss: 0.4910 - val_loss: 0.7277\n",
      "Epoch 7/200\n",
      "4896/4896 [==============================] - 398s 81ms/step - loss: 0.4775 - val_loss: 0.7495\n",
      "Epoch 8/200\n",
      "4896/4896 [==============================] - 400s 82ms/step - loss: 0.4694 - val_loss: 0.7660\n",
      "Epoch 9/200\n",
      "4896/4896 [==============================] - 399s 81ms/step - loss: 0.4642 - val_loss: 0.7785\n",
      "Epoch 10/200\n",
      "4896/4896 [==============================] - 396s 81ms/step - loss: 0.4606 - val_loss: 0.7885\n",
      "Epoch 11/200\n",
      "4896/4896 [==============================] - 396s 81ms/step - loss: 0.4581 - val_loss: 0.7962\n",
      "Epoch 12/200\n",
      "4896/4896 [==============================] - 398s 81ms/step - loss: 0.4562 - val_loss: 0.8021\n",
      "Epoch 13/200\n",
      "4896/4896 [==============================] - ETA: 0s - loss: 0.4547Restoring model weights from the end of the best epoch: 3.\n",
      "4896/4896 [==============================] - 398s 81ms/step - loss: 0.4547 - val_loss: 0.8067\n",
      "Epoch 00013: early stopping\n",
      "Train RMSE: 0.6620906950979668\n",
      "Test RMSE: 0.7634730165506081\n",
      "Train MAE: 0.5051997\n",
      "Test MAE: 0.58422726\n"
     ]
    },
    {
     "data": {
      "image/png": "[encoded data removed]",
      "text/plain": [
       "<Figure size 432x288 with 1 Axes>"
      ]
     },
     "metadata": {
      "needs_background": "light"
     },
     "output_type": "display_data"
    },
    {
     "data": {
      "image/png": "[encoded data removed]",
      "text/plain": [
       "<Figure size 432x288 with 1 Axes>"
      ]
     },
     "metadata": {
      "needs_background": "light"
     },
     "output_type": "display_data"
    }
   ],
   "source": [
    "# early stop!\n",
    "from tensorflow.keras.callbacks import EarlyStopping\n",
    "from sklearn.metrics import mean_absolute_error\n",
    "from sklearn.metrics import mean_squared_error\n",
    "from math import sqrt\n",
    "\n",
    "early_stop = EarlyStopping(monitor='val_loss',mode='min',verbose=1,\n",
    "                           patience=10,\n",
    "                           restore_best_weights=True)\n",
    "\n",
    "# fit the model\n",
    "history = model.fit(x=X_train_array, y=y_train, batch_size=2048, epochs=200,\n",
    "                    verbose=1, validation_data=(X_test_array, y_test),\n",
    "                    callbacks=[early_stop])\n",
    "\n",
    "# store results\n",
    "train_preds = model.predict(X_train_array)\n",
    "test_preds = model.predict(X_test_array)\n",
    "\n",
    "# score/metrics\n",
    "train_rmse = sqrt(mean_squared_error(y_train, train_preds))\n",
    "test_rmse = sqrt(mean_squared_error(y_test, test_preds))\n",
    "train_score = mean_absolute_error(y_train, train_preds)\n",
    "test_score = mean_absolute_error(y_test, test_preds)\n",
    "\n",
    "print('Train RMSE:', train_rmse)\n",
    "print('Test RMSE:', test_rmse)\n",
    "print('Train MAE:', train_score)\n",
    "print('Test MAE:', test_score)\n",
    "\n",
    "# a nice plot\n",
    "plt.plot(history.history[\"loss\"])\n",
    "plt.plot(history.history[\"val_loss\"])\n",
    "plt.title(\"model loss\")\n",
    "plt.ylabel(\"loss\")\n",
    "plt.xlabel(\"epoch\")\n",
    "plt.legend([\"train\", \"test\"], loc=\"upper left\")\n",
    "plt.show()\n",
    "\n",
    "# actual vs. pred\n",
    "# train\n",
    "plt.scatter(y_train,\n",
    "          train_preds,\n",
    "          marker = '*',\n",
    "          color='red')\n",
    "plt.scatter(y_test,\n",
    "          test_preds,\n",
    "          marker = '*',\n",
    "          color='blue')\n",
    "plt.show()"
   ]
  },
  {
   "cell_type": "code",
   "execution_count": 42,
   "id": "f96454ef",
   "metadata": {},
   "outputs": [],
   "source": [
    "# Deep Recommender\n",
    "\n",
    "def top_recommendations_DEEP(user_Id, top_N):\n",
    "    movies_watched_by_user = ratings_drop_users[ratings_drop_users.userId == user_Id]\n",
    "    movies_not_watched = movies[~movies[\"movieId\"].isin(movies_watched_by_user.movieId.values)][\"movieId\"]\n",
    "    movies_not_watched = list(set(movies_not_watched).intersection(set(item_enc_mapping.keys())))\n",
    "    movies_not_watched = [[item_enc_mapping.get(x)] for x in movies_not_watched]\n",
    "    \n",
    "    user_encoder = item_enc_mapping.get(user_Id)\n",
    "    user_movie_array = np.hstack(\n",
    "    ([[user_encoder]] * len(movies_not_watched), movies_not_watched))\n",
    "    user_movie_array = [user_movie_array[:, 0], user_movie_array[:, 1]]\n",
    "    \n",
    "    ratings = model.predict(user_movie_array).flatten()\n",
    "    top_ratings_indices = ratings.argsort()[::-1]\n",
    "    recommended_movie_ids = [item_enc_mapping.get(movies_not_watched[x][0]) for x in top_ratings_indices]\n",
    "    recommended_movie_ids = list(filter(None,recommended_movie_ids))[:top_N]\n",
    "    \n",
    "    print(\"Showing recommendations for user: {}\".format(user_Id))\n",
    "    print(\"====\" * 9)\n",
    "    print(\"Movies with high ratings from user\")\n",
    "    print(\"----\" * 8)\n",
    "    top_movies_user = (movies_watched_by_user.sort_values(by=\"rating\", ascending=False).head(5).movieId.values)\n",
    "    movies_rows = movies[movies[\"movieId\"].isin(top_movies_user)]\n",
    "    for row in movies_rows.itertuples():\n",
    "        print(row.title, \":\", row.genres)\n",
    "\n",
    "    print(\"----\" * 8)\n",
    "    print(\"Top 10 movie recommendations\")\n",
    "    print(\"----\" * 8)\n",
    "    recommended_movies = movies[movies[\"movieId\"].isin(recommended_movie_ids)]\n",
    "    for row in recommended_movies.itertuples():\n",
    "        print(row.title, \":\", row.genres)"
   ]
  },
  {
   "cell_type": "code",
   "execution_count": 43,
   "id": "b23e10ed",
   "metadata": {},
   "outputs": [
    {
     "name": "stdout",
     "output_type": "stream",
     "text": [
      "Showing recommendations for user: 2\n",
      "====================================\n",
      "Movies with high ratings from user\n",
      "--------------------------------\n",
      "Monty Python and the Holy Grail (1975) : Adventure|Comedy|Fantasy\n",
      "Star Wars: Episode V - The Empire Strikes Back (1980) : Action|Adventure|Sci-Fi\n",
      "Princess Bride, The (1987) : Action|Adventure|Comedy|Fantasy|Romance\n",
      "Indiana Jones and the Last Crusade (1989) : Action|Adventure\n",
      "Hoosiers (a.k.a. Best Shot) (1986) : Drama|Romance\n",
      "--------------------------------\n",
      "Top 10 movie recommendations\n",
      "--------------------------------\n",
      "Ladybird Ladybird (1994) : Drama\n",
      "Legends of the Fall (1994) : Drama|Romance|War|Western\n",
      "Executive Decision (1996) : Action|Adventure|Thriller\n",
      "It's a Wonderful Life (1946) : Children|Drama|Fantasy|Romance\n",
      "Tom Jones (1963) : Adventure|Comedy|Romance\n",
      "Inheritors, The (Siebtelbauern, Die) (1998) : Drama|Mystery\n",
      "Naked Man, The (1998) : Drama\n",
      "River, The (1984) : Drama\n",
      "They Might Be Giants (1971) : Comedy|Mystery|Romance\n",
      "Happy Together (1989) : Drama|Romance\n"
     ]
    }
   ],
   "source": [
    "top_recommendations_DEEP(2,10)"
   ]
  },
  {
   "cell_type": "markdown",
   "id": "39a5d8bf",
   "metadata": {},
   "source": [
    "- Deep Recommender and Singular Vector Machine which use latent feature vectors perform better than K-Nearest Neighbors based on RMSE.\n",
    "- The user '2' has given high ratings to Adventure, Action, and Romance and the three models also recommend those genres to the user. However, the movies recommended by the models are different from each other.\n",
    "- It seems that we need to conduct A/B testings to decide which model recommends more relevant movies to users."
   ]
  }
 ],
 "metadata": {
  "kernelspec": {
   "display_name": "Python 3 (ipykernel)",
   "language": "python",
   "name": "python3"
  },
  "language_info": {
   "codemirror_mode": {
    "name": "ipython",
    "version": 3
   },
   "file_extension": ".py",
   "mimetype": "text/x-python",
   "name": "python",
   "nbconvert_exporter": "python",
   "pygments_lexer": "ipython3",
   "version": "3.9.7"
  }
 },
 "nbformat": 4,
 "nbformat_minor": 5
}
