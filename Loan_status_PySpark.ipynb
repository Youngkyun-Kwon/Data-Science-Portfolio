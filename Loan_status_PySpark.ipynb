{
 "cells": [
  {
   "cell_type": "markdown",
   "metadata": {},
   "source": [
    "# Loan Status Prediction\n",
    "\n",
    "We are going to build a model to whether a loan application is approved. "
   ]
  },
  {
   "cell_type": "code",
   "execution_count": 97,
   "metadata": {},
   "outputs": [
    {
     "data": {
      "text/plain": [
       "614"
      ]
     },
     "execution_count": 97,
     "metadata": {},
     "output_type": "execute_result"
    }
   ],
   "source": [
    "df = spark.read.csv(\"gs://newbms1-dataproc/loans.csv\", header=True, inferSchema=True)\n",
    "df.count()"
   ]
  },
  {
   "cell_type": "code",
   "execution_count": 98,
   "metadata": {},
   "outputs": [
    {
     "name": "stdout",
     "output_type": "stream",
     "text": [
      "+--------+------+-------+----------+------------+-------------+---------------+-----------------+----------+----------------+--------------+-------------+-----------+\n",
      "| Loan_ID|Gender|Married|Dependents|   Education|Self_Employed|ApplicantIncome|CoapplicantIncome|LoanAmount|Loan_Amount_Term|Credit_History|Property_Area|Loan_Status|\n",
      "+--------+------+-------+----------+------------+-------------+---------------+-----------------+----------+----------------+--------------+-------------+-----------+\n",
      "|LP001002|  Male|     No|         0|    Graduate|           No|           5849|              0.0|      null|             360|             1|        Urban|          Y|\n",
      "|LP001003|  Male|    Yes|         1|    Graduate|           No|           4583|           1508.0|       128|             360|             1|        Rural|          N|\n",
      "|LP001005|  Male|    Yes|         0|    Graduate|          Yes|           3000|              0.0|        66|             360|             1|        Urban|          Y|\n",
      "|LP001006|  Male|    Yes|         0|Not Graduate|           No|           2583|           2358.0|       120|             360|             1|        Urban|          Y|\n",
      "|LP001008|  Male|     No|         0|    Graduate|           No|           6000|              0.0|       141|             360|             1|        Urban|          Y|\n",
      "+--------+------+-------+----------+------------+-------------+---------------+-----------------+----------+----------------+--------------+-------------+-----------+\n",
      "only showing top 5 rows\n",
      "\n"
     ]
    }
   ],
   "source": [
    "df.show(5)"
   ]
  },
  {
   "cell_type": "code",
   "execution_count": 99,
   "metadata": {},
   "outputs": [
    {
     "name": "stdout",
     "output_type": "stream",
     "text": [
      "root\n",
      " |-- Loan_ID: string (nullable = true)\n",
      " |-- Gender: string (nullable = true)\n",
      " |-- Married: string (nullable = true)\n",
      " |-- Dependents: string (nullable = true)\n",
      " |-- Education: string (nullable = true)\n",
      " |-- Self_Employed: string (nullable = true)\n",
      " |-- ApplicantIncome: integer (nullable = true)\n",
      " |-- CoapplicantIncome: double (nullable = true)\n",
      " |-- LoanAmount: integer (nullable = true)\n",
      " |-- Loan_Amount_Term: integer (nullable = true)\n",
      " |-- Credit_History: integer (nullable = true)\n",
      " |-- Property_Area: string (nullable = true)\n",
      " |-- Loan_Status: string (nullable = true)\n",
      "\n"
     ]
    }
   ],
   "source": [
    "df.printSchema()"
   ]
  },
  {
   "cell_type": "markdown",
   "metadata": {},
   "source": [
    "## Data Preprocessing"
   ]
  },
  {
   "cell_type": "code",
   "execution_count": 100,
   "metadata": {},
   "outputs": [
    {
     "name": "stdout",
     "output_type": "stream",
     "text": [
      "+--------+------+-------+----------+---------+-------------+---------------+----------+----------------+--------------+-------------+-----------+\n",
      "| Loan_ID|Gender|Married|Dependents|Education|Self_Employed|ApplicantIncome|LoanAmount|Loan_Amount_Term|Credit_History|Property_Area|Loan_Status|\n",
      "+--------+------+-------+----------+---------+-------------+---------------+----------+----------------+--------------+-------------+-----------+\n",
      "|LP001002|  Male|     No|         0| Graduate|           No|           5849|      null|             360|             1|        Urban|          Y|\n",
      "|LP001003|  Male|    Yes|         1| Graduate|           No|           4583|       128|             360|             1|        Rural|          N|\n",
      "|LP001005|  Male|    Yes|         0| Graduate|          Yes|           3000|        66|             360|             1|        Urban|          Y|\n",
      "+--------+------+-------+----------+---------+-------------+---------------+----------+----------------+--------------+-------------+-----------+\n",
      "only showing top 3 rows\n",
      "\n"
     ]
    },
    {
     "data": {
      "text/plain": [
       "480"
      ]
     },
     "execution_count": 100,
     "metadata": {},
     "output_type": "execute_result"
    }
   ],
   "source": [
    "# Drop any unnecessary columns \n",
    "df = df.drop('CoapplicantIncome')\n",
    "df.show(3)\n",
    "# Drop records with null values \n",
    "df2 = df.dropna()\n",
    "df2.count()"
   ]
  },
  {
   "cell_type": "code",
   "execution_count": 101,
   "metadata": {},
   "outputs": [
    {
     "name": "stdout",
     "output_type": "stream",
     "text": [
      "+--------+------+-------+----------+------------+-------------+---------------+----------+----------------+--------------+-------------+-----------+\n",
      "| Loan_ID|Gender|Married|Dependents|   Education|Self_Employed|ApplicantIncome|LoanAmount|Loan_Amount_Term|Credit_History|Property_Area|Loan_Status|\n",
      "+--------+------+-------+----------+------------+-------------+---------------+----------+----------------+--------------+-------------+-----------+\n",
      "|LP001003|  Male|    Yes|         1|    Graduate|           No|           4583|       128|             360|             1|        Rural|          N|\n",
      "|LP001005|  Male|    Yes|         0|    Graduate|          Yes|           3000|        66|             360|             1|        Urban|          Y|\n",
      "|LP001006|  Male|    Yes|         0|Not Graduate|           No|           2583|       120|             360|             1|        Urban|          Y|\n",
      "+--------+------+-------+----------+------------+-------------+---------------+----------+----------------+--------------+-------------+-----------+\n",
      "only showing top 3 rows\n",
      "\n"
     ]
    }
   ],
   "source": [
    "df2.show(3)"
   ]
  },
  {
   "cell_type": "code",
   "execution_count": 102,
   "metadata": {},
   "outputs": [
    {
     "name": "stdout",
     "output_type": "stream",
     "text": [
      "+--------+------+-------+----------+------------+-------------+----------+----------------+--------------+-------------+-----------+------------+\n",
      "| Loan_ID|Gender|Married|Dependents|   Education|Self_Employed|LoanAmount|Loan_Amount_Term|Credit_History|Property_Area|Loan_Status|annualIncome|\n",
      "+--------+------+-------+----------+------------+-------------+----------+----------------+--------------+-------------+-----------+------------+\n",
      "|LP001003|  Male|    Yes|         1|    Graduate|           No|       128|             360|             1|        Rural|          N|       54996|\n",
      "|LP001005|  Male|    Yes|         0|    Graduate|          Yes|        66|             360|             1|        Urban|          Y|       36000|\n",
      "|LP001006|  Male|    Yes|         0|Not Graduate|           No|       120|             360|             1|        Urban|          Y|       30996|\n",
      "+--------+------+-------+----------+------------+-------------+----------+----------------+--------------+-------------+-----------+------------+\n",
      "only showing top 3 rows\n",
      "\n"
     ]
    }
   ],
   "source": [
    "# Convert monthly income to annual income\n",
    "df2 = df2.withColumn('annualIncome',(df2.ApplicantIncome*12)).drop('ApplicantIncome')\n",
    "df2.show(3)"
   ]
  },
  {
   "cell_type": "code",
   "execution_count": 103,
   "metadata": {},
   "outputs": [
    {
     "name": "stdout",
     "output_type": "stream",
     "text": [
      "+--------+----------+----------+----------------+--------------+------------+----------+-----------+-------------+-----------------+-----------------+---------------+\n",
      "| Loan_ID|Dependents|LoanAmount|Loan_Amount_Term|Credit_History|annualIncome|Gender_idx|Married_idx|Education_idx|Property_Area_idx|Self_Employed_idx|Loan_Status_idx|\n",
      "+--------+----------+----------+----------------+--------------+------------+----------+-----------+-------------+-----------------+-----------------+---------------+\n",
      "|LP001003|         1|       128|             360|             1|       54996|       0.0|        0.0|          0.0|              2.0|              0.0|            1.0|\n",
      "|LP001005|         0|        66|             360|             1|       36000|       0.0|        0.0|          0.0|              1.0|              1.0|            0.0|\n",
      "|LP001006|         0|       120|             360|             1|       30996|       0.0|        0.0|          1.0|              1.0|              0.0|            0.0|\n",
      "|LP001008|         0|       141|             360|             1|       72000|       0.0|        1.0|          0.0|              1.0|              0.0|            0.0|\n",
      "|LP001011|         2|       267|             360|             1|       65004|       0.0|        0.0|          0.0|              1.0|              1.0|            0.0|\n",
      "|LP001013|         0|        95|             360|             1|       27996|       0.0|        0.0|          1.0|              1.0|              0.0|            0.0|\n",
      "|LP001014|        3+|       158|             360|             0|       36432|       0.0|        0.0|          0.0|              0.0|              0.0|            1.0|\n",
      "|LP001018|         2|       168|             360|             1|       48072|       0.0|        0.0|          0.0|              1.0|              0.0|            0.0|\n",
      "|LP001020|         1|       349|             360|             1|      154092|       0.0|        0.0|          0.0|              0.0|              0.0|            1.0|\n",
      "|LP001024|         2|        70|             360|             1|       38400|       0.0|        0.0|          0.0|              1.0|              0.0|            0.0|\n",
      "|LP001028|         2|       200|             360|             1|       36876|       0.0|        0.0|          0.0|              1.0|              0.0|            0.0|\n",
      "|LP001029|         0|       114|             360|             1|       22236|       0.0|        1.0|          0.0|              2.0|              0.0|            1.0|\n",
      "|LP001030|         2|        17|             120|             1|       15588|       0.0|        0.0|          0.0|              1.0|              0.0|            0.0|\n",
      "|LP001032|         0|       125|             360|             1|       59400|       0.0|        1.0|          0.0|              1.0|              0.0|            0.0|\n",
      "|LP001036|         0|        76|             360|             0|       42120|       1.0|        1.0|          0.0|              1.0|              0.0|            1.0|\n",
      "|LP001038|         0|       133|             360|             1|       58644|       0.0|        0.0|          1.0|              2.0|              0.0|            1.0|\n",
      "|LP001043|         0|       104|             360|             0|       91920|       0.0|        0.0|          1.0|              1.0|              0.0|            1.0|\n",
      "|LP001046|         1|       315|             360|             1|       71460|       0.0|        0.0|          0.0|              1.0|              0.0|            0.0|\n",
      "|LP001047|         0|       116|             360|             0|       31200|       0.0|        0.0|          1.0|              0.0|              0.0|            1.0|\n",
      "|LP001066|         0|       191|             360|             1|      114720|       0.0|        0.0|          0.0|              0.0|              1.0|            0.0|\n",
      "+--------+----------+----------+----------------+--------------+------------+----------+-----------+-------------+-----------------+-----------------+---------------+\n",
      "only showing top 20 rows\n",
      "\n"
     ]
    }
   ],
   "source": [
    "# Let's convert categorical values to numerical values\n",
    "from pyspark.ml.feature import StringIndexer\n",
    "\n",
    "# Create an array of the columns\n",
    "categoricalColumns = ['Gender', 'Married', 'Education', 'Property_Area', 'Self_Employed', 'Loan_Status']\n",
    "\n",
    "# loop through the columns using a for loop\n",
    "for categoricalCol in categoricalColumns:\n",
    "    indexer = StringIndexer(inputCol = categoricalCol, outputCol = categoricalCol + '_idx')\n",
    "    indexer_model = indexer.fit(df2)\n",
    "    df2 = indexer_model.transform(df2)\n",
    "    df2 = df2.drop(categoricalCol)\n",
    "\n",
    "df2.show(20)"
   ]
  },
  {
   "cell_type": "code",
   "execution_count": 104,
   "metadata": {},
   "outputs": [],
   "source": [
    "from pyspark.sql.functions import when\n",
    "df2 = df2.withColumn(\"Dependents\", when(df2.Dependents == \"3+\", 3)\n",
    "                                 .when(df2.Dependents == \"2\", 2)\n",
    "                                 .when(df2.Dependents == \"1\", 1)\n",
    "                                 .when(df2.Dependents == \"0\", 0)                    \n",
    "                                 .otherwise(df2.Dependents))"
   ]
  },
  {
   "cell_type": "code",
   "execution_count": 105,
   "metadata": {},
   "outputs": [],
   "source": [
    "df2.toPandas().to_csv(\"gs://newbms1-dataproc/loans2-dt/loans.csv\", index=False)"
   ]
  },
  {
   "cell_type": "markdown",
   "metadata": {},
   "source": [
    "## Modeling"
   ]
  },
  {
   "cell_type": "code",
   "execution_count": 106,
   "metadata": {},
   "outputs": [
    {
     "name": "stdout",
     "output_type": "stream",
     "text": [
      "+--------+----------+----------+----------------+--------------+------------+----------+-----------+-------------+-----------------+-----------------+---------------+\n",
      "| Loan_ID|Dependents|LoanAmount|Loan_Amount_Term|Credit_History|annualIncome|Gender_idx|Married_idx|Education_idx|Property_Area_idx|Self_Employed_idx|Loan_Status_idx|\n",
      "+--------+----------+----------+----------------+--------------+------------+----------+-----------+-------------+-----------------+-----------------+---------------+\n",
      "|LP001003|         1|       128|             360|             1|       54996|       0.0|        0.0|          0.0|              2.0|              0.0|            1.0|\n",
      "|LP001005|         0|        66|             360|             1|       36000|       0.0|        0.0|          0.0|              1.0|              1.0|            0.0|\n",
      "|LP001006|         0|       120|             360|             1|       30996|       0.0|        0.0|          1.0|              1.0|              0.0|            0.0|\n",
      "|LP001008|         0|       141|             360|             1|       72000|       0.0|        1.0|          0.0|              1.0|              0.0|            0.0|\n",
      "|LP001011|         2|       267|             360|             1|       65004|       0.0|        0.0|          0.0|              1.0|              1.0|            0.0|\n",
      "|LP001013|         0|        95|             360|             1|       27996|       0.0|        0.0|          1.0|              1.0|              0.0|            0.0|\n",
      "|LP001014|         3|       158|             360|             0|       36432|       0.0|        0.0|          0.0|              0.0|              0.0|            1.0|\n",
      "|LP001018|         2|       168|             360|             1|       48072|       0.0|        0.0|          0.0|              1.0|              0.0|            0.0|\n",
      "|LP001020|         1|       349|             360|             1|      154092|       0.0|        0.0|          0.0|              0.0|              0.0|            1.0|\n",
      "|LP001024|         2|        70|             360|             1|       38400|       0.0|        0.0|          0.0|              1.0|              0.0|            0.0|\n",
      "|LP001028|         2|       200|             360|             1|       36876|       0.0|        0.0|          0.0|              1.0|              0.0|            0.0|\n",
      "|LP001029|         0|       114|             360|             1|       22236|       0.0|        1.0|          0.0|              2.0|              0.0|            1.0|\n",
      "|LP001030|         2|        17|             120|             1|       15588|       0.0|        0.0|          0.0|              1.0|              0.0|            0.0|\n",
      "|LP001032|         0|       125|             360|             1|       59400|       0.0|        1.0|          0.0|              1.0|              0.0|            0.0|\n",
      "|LP001036|         0|        76|             360|             0|       42120|       1.0|        1.0|          0.0|              1.0|              0.0|            1.0|\n",
      "|LP001038|         0|       133|             360|             1|       58644|       0.0|        0.0|          1.0|              2.0|              0.0|            1.0|\n",
      "|LP001043|         0|       104|             360|             0|       91920|       0.0|        0.0|          1.0|              1.0|              0.0|            1.0|\n",
      "|LP001046|         1|       315|             360|             1|       71460|       0.0|        0.0|          0.0|              1.0|              0.0|            0.0|\n",
      "|LP001047|         0|       116|             360|             0|       31200|       0.0|        0.0|          1.0|              0.0|              0.0|            1.0|\n",
      "|LP001066|         0|       191|             360|             1|      114720|       0.0|        0.0|          0.0|              0.0|              1.0|            0.0|\n",
      "+--------+----------+----------+----------------+--------------+------------+----------+-----------+-------------+-----------------+-----------------+---------------+\n",
      "only showing top 20 rows\n",
      "\n"
     ]
    }
   ],
   "source": [
    "# Read the pre-processed data into a dataframe\n",
    "df = spark.read.csv(\"gs://newbms1-dataproc/loans2-dt/loans.csv\", header=True, inferSchema=True);\n",
    "df.show(20)"
   ]
  },
  {
   "cell_type": "code",
   "execution_count": 107,
   "metadata": {},
   "outputs": [],
   "source": [
    "# To remove a numerical ordering, let's do one-hot encoding (OHE). \n",
    "\n",
    "from pyspark.ml.feature import OneHotEncoderEstimator\n",
    "# Next, create an encoder object with the input and output columns specified \n",
    "# The output columns are vectors\n",
    "encoder = OneHotEncoderEstimator(inputCols=['Gender_idx','Married_idx','Education_idx','Self_Employed_idx','Property_Area_idx'], \n",
    "                                 outputCols=[\"Gender_idx_vector\",\"Married_idx_vector\", \"Education_idx_vector\",\"Self_Employed_idx_vector\",\"Property_Area_idx_vector\"])"
   ]
  },
  {
   "cell_type": "code",
   "execution_count": 108,
   "metadata": {},
   "outputs": [],
   "source": [
    "# Encoder first identifies the categories in the data\n",
    "encoder_model = encoder.fit(df)"
   ]
  },
  {
   "cell_type": "code",
   "execution_count": 109,
   "metadata": {},
   "outputs": [
    {
     "name": "stdout",
     "output_type": "stream",
     "text": [
      "+--------+----------+----------+----------------+--------------+------------+----------+-----------+-------------+-----------------+-----------------+---------------+------------------------+--------------------+------------------------+-----------------+------------------+\n",
      "| Loan_ID|Dependents|LoanAmount|Loan_Amount_Term|Credit_History|annualIncome|Gender_idx|Married_idx|Education_idx|Property_Area_idx|Self_Employed_idx|Loan_Status_idx|Self_Employed_idx_vector|Education_idx_vector|Property_Area_idx_vector|Gender_idx_vector|Married_idx_vector|\n",
      "+--------+----------+----------+----------------+--------------+------------+----------+-----------+-------------+-----------------+-----------------+---------------+------------------------+--------------------+------------------------+-----------------+------------------+\n",
      "|LP001003|         1|       128|             360|             1|       54996|       0.0|        0.0|          0.0|              2.0|              0.0|            1.0|           (1,[0],[1.0])|       (1,[0],[1.0])|               (2,[],[])|    (1,[0],[1.0])|     (1,[0],[1.0])|\n",
      "|LP001005|         0|        66|             360|             1|       36000|       0.0|        0.0|          0.0|              1.0|              1.0|            0.0|               (1,[],[])|       (1,[0],[1.0])|           (2,[1],[1.0])|    (1,[0],[1.0])|     (1,[0],[1.0])|\n",
      "|LP001006|         0|       120|             360|             1|       30996|       0.0|        0.0|          1.0|              1.0|              0.0|            0.0|           (1,[0],[1.0])|           (1,[],[])|           (2,[1],[1.0])|    (1,[0],[1.0])|     (1,[0],[1.0])|\n",
      "|LP001008|         0|       141|             360|             1|       72000|       0.0|        1.0|          0.0|              1.0|              0.0|            0.0|           (1,[0],[1.0])|       (1,[0],[1.0])|           (2,[1],[1.0])|    (1,[0],[1.0])|         (1,[],[])|\n",
      "|LP001011|         2|       267|             360|             1|       65004|       0.0|        0.0|          0.0|              1.0|              1.0|            0.0|               (1,[],[])|       (1,[0],[1.0])|           (2,[1],[1.0])|    (1,[0],[1.0])|     (1,[0],[1.0])|\n",
      "|LP001013|         0|        95|             360|             1|       27996|       0.0|        0.0|          1.0|              1.0|              0.0|            0.0|           (1,[0],[1.0])|           (1,[],[])|           (2,[1],[1.0])|    (1,[0],[1.0])|     (1,[0],[1.0])|\n",
      "|LP001014|         3|       158|             360|             0|       36432|       0.0|        0.0|          0.0|              0.0|              0.0|            1.0|           (1,[0],[1.0])|       (1,[0],[1.0])|           (2,[0],[1.0])|    (1,[0],[1.0])|     (1,[0],[1.0])|\n",
      "|LP001018|         2|       168|             360|             1|       48072|       0.0|        0.0|          0.0|              1.0|              0.0|            0.0|           (1,[0],[1.0])|       (1,[0],[1.0])|           (2,[1],[1.0])|    (1,[0],[1.0])|     (1,[0],[1.0])|\n",
      "|LP001020|         1|       349|             360|             1|      154092|       0.0|        0.0|          0.0|              0.0|              0.0|            1.0|           (1,[0],[1.0])|       (1,[0],[1.0])|           (2,[0],[1.0])|    (1,[0],[1.0])|     (1,[0],[1.0])|\n",
      "|LP001024|         2|        70|             360|             1|       38400|       0.0|        0.0|          0.0|              1.0|              0.0|            0.0|           (1,[0],[1.0])|       (1,[0],[1.0])|           (2,[1],[1.0])|    (1,[0],[1.0])|     (1,[0],[1.0])|\n",
      "+--------+----------+----------+----------------+--------------+------------+----------+-----------+-------------+-----------------+-----------------+---------------+------------------------+--------------------+------------------------+-----------------+------------------+\n",
      "only showing top 10 rows\n",
      "\n"
     ]
    }
   ],
   "source": [
    "# Encoder then converts the categorical data into encoded vectors, in a new column\n",
    "df = encoder_model.transform(df)\n",
    "df.show(10)"
   ]
  },
  {
   "cell_type": "code",
   "execution_count": 110,
   "metadata": {},
   "outputs": [],
   "source": [
    "# Label the target column as \"label\" for the algorithm to find it\n",
    "df = df.withColumnRenamed(\"Loan_Status_idx\",\"label\")"
   ]
  },
  {
   "cell_type": "code",
   "execution_count": 111,
   "metadata": {},
   "outputs": [
    {
     "name": "stdout",
     "output_type": "stream",
     "text": [
      "+--------+----------+----------+----------------+--------------+------------+----------+-----------+-------------+-----------------+-----------------+-----+------------------------+--------------------+------------------------+-----------------+------------------+--------------------+\n",
      "| Loan_ID|Dependents|LoanAmount|Loan_Amount_Term|Credit_History|annualIncome|Gender_idx|Married_idx|Education_idx|Property_Area_idx|Self_Employed_idx|label|Self_Employed_idx_vector|Education_idx_vector|Property_Area_idx_vector|Gender_idx_vector|Married_idx_vector|            features|\n",
      "+--------+----------+----------+----------------+--------------+------------+----------+-----------+-------------+-----------------+-----------------+-----+------------------------+--------------------+------------------------+-----------------+------------------+--------------------+\n",
      "|LP001003|         1|       128|             360|             1|       54996|       0.0|        0.0|          0.0|              2.0|              0.0|  1.0|           (1,[0],[1.0])|       (1,[0],[1.0])|               (2,[],[])|    (1,[0],[1.0])|     (1,[0],[1.0])|[1.0,128.0,360.0,...|\n",
      "|LP001005|         0|        66|             360|             1|       36000|       0.0|        0.0|          0.0|              1.0|              1.0|  0.0|               (1,[],[])|       (1,[0],[1.0])|           (2,[1],[1.0])|    (1,[0],[1.0])|     (1,[0],[1.0])|[0.0,66.0,360.0,1...|\n",
      "|LP001006|         0|       120|             360|             1|       30996|       0.0|        0.0|          1.0|              1.0|              0.0|  0.0|           (1,[0],[1.0])|           (1,[],[])|           (2,[1],[1.0])|    (1,[0],[1.0])|     (1,[0],[1.0])|[0.0,120.0,360.0,...|\n",
      "|LP001008|         0|       141|             360|             1|       72000|       0.0|        1.0|          0.0|              1.0|              0.0|  0.0|           (1,[0],[1.0])|       (1,[0],[1.0])|           (2,[1],[1.0])|    (1,[0],[1.0])|         (1,[],[])|[0.0,141.0,360.0,...|\n",
      "|LP001011|         2|       267|             360|             1|       65004|       0.0|        0.0|          0.0|              1.0|              1.0|  0.0|               (1,[],[])|       (1,[0],[1.0])|           (2,[1],[1.0])|    (1,[0],[1.0])|     (1,[0],[1.0])|[2.0,267.0,360.0,...|\n",
      "+--------+----------+----------+----------------+--------------+------------+----------+-----------+-------------+-----------------+-----------------+-----+------------------------+--------------------+------------------------+-----------------+------------------+--------------------+\n",
      "only showing top 5 rows\n",
      "\n"
     ]
    }
   ],
   "source": [
    "# Import the VectorAssembler class. This will let us convert our feature-columns into a feature vector, \n",
    "# which is the format required for the data so that PySpark Machine Learning algorithm can process it.\n",
    "from pyspark.ml.feature import VectorAssembler\n",
    "assembler = VectorAssembler(inputCols=[\"Dependents\", \"LoanAmount\", \"Loan_Amount_Term\", \"Credit_History\", \"annualIncome\", \"Gender_idx_vector\",\n",
    "                                       \"Married_idx_vector\", \"Education_idx_vector\",\"Self_Employed_idx_vector\",\"Property_Area_idx_vector\"],outputCol='features')\n",
    "df = assembler.transform(df)\n",
    "df.show(5)"
   ]
  },
  {
   "cell_type": "code",
   "execution_count": 112,
   "metadata": {},
   "outputs": [
    {
     "name": "stdout",
     "output_type": "stream",
     "text": [
      "+-----------------------------------------------------+-----+\n",
      "|features                                             |label|\n",
      "+-----------------------------------------------------+-----+\n",
      "|[1.0,128.0,360.0,1.0,54996.0,1.0,1.0,1.0,1.0,0.0,0.0]|1.0  |\n",
      "|[0.0,66.0,360.0,1.0,36000.0,1.0,1.0,1.0,0.0,0.0,1.0] |0.0  |\n",
      "|[0.0,120.0,360.0,1.0,30996.0,1.0,1.0,0.0,1.0,0.0,1.0]|0.0  |\n",
      "+-----------------------------------------------------+-----+\n",
      "only showing top 3 rows\n",
      "\n"
     ]
    }
   ],
   "source": [
    "df.select('features','label').show(3,truncate=False)"
   ]
  },
  {
   "cell_type": "code",
   "execution_count": 113,
   "metadata": {},
   "outputs": [
    {
     "data": {
      "text/plain": [
       "[387, 93]"
      ]
     },
     "execution_count": 113,
     "metadata": {},
     "output_type": "execute_result"
    }
   ],
   "source": [
    "# Split the data into training and test datasets\n",
    "train, test = df.randomSplit([0.8,0.2], seed=1)\n",
    "\n",
    "[train.count(), test.count()]"
   ]
  },
  {
   "cell_type": "code",
   "execution_count": 114,
   "metadata": {},
   "outputs": [],
   "source": [
    "from pyspark.ml.classification import DecisionTreeClassifier\n",
    "tree = DecisionTreeClassifier()\n",
    "tree_model = tree.fit(train)\n",
    "prediction = tree_model.transform(test)"
   ]
  },
  {
   "cell_type": "code",
   "execution_count": 115,
   "metadata": {},
   "outputs": [
    {
     "name": "stdout",
     "output_type": "stream",
     "text": [
      "+-----+----------+----------------------------------------+-----------------------------------------------------+\n",
      "|label|prediction|probability                             |features                                             |\n",
      "+-----+----------+----------------------------------------+-----------------------------------------------------+\n",
      "|0.0  |0.0       |[0.7,0.3]                               |[2.0,267.0,360.0,1.0,65004.0,1.0,1.0,1.0,0.0,0.0,1.0]|\n",
      "|0.0  |0.0       |[0.7931034482758621,0.20689655172413793]|[2.0,200.0,360.0,1.0,36876.0,1.0,1.0,1.0,1.0,0.0,1.0]|\n",
      "|1.0  |1.0       |[0.0,1.0]                               |[0.0,116.0,360.0,0.0,31200.0,1.0,1.0,0.0,1.0,1.0,0.0]|\n",
      "|0.0  |0.0       |[0.8805970149253731,0.11940298507462686]|[0.0,122.0,360.0,1.0,33588.0,1.0,1.0,1.0,1.0,1.0,0.0]|\n",
      "|1.0  |0.0       |[0.7931034482758621,0.20689655172413793]|[1.0,106.0,360.0,1.0,56304.0,1.0,0.0,1.0,0.0,0.0,0.0]|\n",
      "|0.0  |0.0       |[0.8805970149253731,0.11940298507462686]|[0.0,134.0,360.0,1.0,47292.0,1.0,1.0,1.0,1.0,1.0,0.0]|\n",
      "|0.0  |0.0       |[0.8805970149253731,0.11940298507462686]|[0.0,144.0,360.0,1.0,48000.0,0.0,0.0,1.0,1.0,1.0,0.0]|\n",
      "|0.0  |0.0       |[0.8805970149253731,0.11940298507462686]|[0.0,120.0,360.0,1.0,37032.0,0.0,0.0,1.0,1.0,1.0,0.0]|\n",
      "|1.0  |0.0       |[0.7931034482758621,0.20689655172413793]|[2.0,134.0,360.0,1.0,55392.0,1.0,1.0,1.0,1.0,0.0,1.0]|\n",
      "|0.0  |0.0       |[0.8805970149253731,0.11940298507462686]|[0.0,96.0,360.0,1.0,25584.0,1.0,1.0,1.0,1.0,1.0,0.0] |\n",
      "+-----+----------+----------------------------------------+-----------------------------------------------------+\n",
      "only showing top 10 rows\n",
      "\n"
     ]
    }
   ],
   "source": [
    "prediction.select('label','prediction','probability','features').show(10, truncate=False)"
   ]
  },
  {
   "cell_type": "code",
   "execution_count": 116,
   "metadata": {},
   "outputs": [
    {
     "name": "stdout",
     "output_type": "stream",
     "text": [
      "+-----+----------+-----+\n",
      "|label|prediction|count|\n",
      "+-----+----------+-----+\n",
      "|  1.0|       1.0|   15|\n",
      "|  0.0|       1.0|    2|\n",
      "|  1.0|       0.0|   19|\n",
      "|  0.0|       0.0|   57|\n",
      "+-----+----------+-----+\n",
      "\n"
     ]
    }
   ],
   "source": [
    "# Count the number of true positive, false positive,  false negative, and true negative cases\n",
    "prediction.groupBy(\"label\", \"prediction\").count().show()"
   ]
  },
  {
   "cell_type": "code",
   "execution_count": 117,
   "metadata": {},
   "outputs": [
    {
     "name": "stdout",
     "output_type": "stream",
     "text": [
      "Accuracy = 0.774194\n",
      "Test Error = 0.225806\n"
     ]
    }
   ],
   "source": [
    "# Calculating accuracy using a PySpark method\n",
    "from pyspark.ml.evaluation import MulticlassClassificationEvaluator\n",
    "\n",
    "# Select (prediction, true label) and compute test error\n",
    "evaluator = MulticlassClassificationEvaluator(\n",
    "    labelCol=\"label\", predictionCol=\"prediction\", metricName=\"accuracy\")\n",
    "accuracy = evaluator.evaluate(prediction)\n",
    "print( \"Accuracy = %g\" % (accuracy))\n",
    "print( \"Test Error = %g\" % (1.0 - accuracy))"
   ]
  },
  {
   "cell_type": "code",
   "execution_count": 118,
   "metadata": {},
   "outputs": [
    {
     "name": "stdout",
     "output_type": "stream",
     "text": [
      "Precision: 0.882353\n"
     ]
    }
   ],
   "source": [
    "# Precision\n",
    "results = prediction.select(['prediction', 'label'])\n",
    "# convert the results dataframe into a \"resilient distributed dataset (RDD)\", a special type of data structure in Spark\n",
    "predictionAndLabels=results.rdd\n",
    "# Calculate metrics\n",
    "from pyspark.mllib.evaluation import MulticlassMetrics\n",
    "metrics = MulticlassMetrics(predictionAndLabels)\n",
    "precision = metrics.precision(label=1);\n",
    "print(\"Precision: %g\" % precision);"
   ]
  },
  {
   "cell_type": "code",
   "execution_count": 119,
   "metadata": {},
   "outputs": [
    {
     "name": "stdout",
     "output_type": "stream",
     "text": [
      "Recall: 0.441176\n"
     ]
    }
   ],
   "source": [
    "# Recall\n",
    "recall = metrics.recall(label=1);\n",
    "print(\"Recall: %g\" % recall);"
   ]
  },
  {
   "cell_type": "markdown",
   "metadata": {},
   "source": [
    "- In this case, Precision is a better metric because if a loan application ,which is not supposed to be, is approved, it causes delinquency.\n",
    "- Recall doesn't consider False Positive so it's not proper measurement. \n",
    "- Based on Precision, the model seems to be accurate. "
   ]
  },
  {
   "cell_type": "code",
   "execution_count": null,
   "metadata": {},
   "outputs": [],
   "source": []
  }
 ],
 "metadata": {
  "kernelspec": {
   "display_name": "PySpark",
   "language": "python",
   "name": "pyspark"
  },
  "language_info": {
   "codemirror_mode": {
    "name": "ipython",
    "version": 3
   },
   "file_extension": ".py",
   "mimetype": "text/x-python",
   "name": "python",
   "nbconvert_exporter": "python",
   "pygments_lexer": "ipython3",
   "version": "3.7.4"
  }
 },
 "nbformat": 4,
 "nbformat_minor": 4
}