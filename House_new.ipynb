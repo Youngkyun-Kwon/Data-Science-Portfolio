{
 "cells": [
  {
   "cell_type": "markdown",
   "id": "29a6997c",
   "metadata": {},
   "source": [
    "# Introduction\n",
    "\n",
    "A data set describes the sale of individual residential property in Ames, Iowa from 2006 to 2010. The data set contains 2919 observations and a large number of explanatory variables (23 nominal, 23 ordinal, 14 discrete, and 20 continuous) involved in assessing home values."
   ]
  },
  {
   "cell_type": "code",
   "execution_count": 1,
   "id": "155a8cad",
   "metadata": {},
   "outputs": [
    {
     "name": "stdout",
     "output_type": "stream",
     "text": [
      "(1459, 80)\n",
      "(1460, 81)\n"
     ]
    }
   ],
   "source": [
    "import pandas as pd\n",
    "\n",
    "test = pd.read_csv(\"test.csv\")\n",
    "test_shape = test.shape\n",
    "train = pd.read_csv(\"train.csv\")\n",
    "train_shape = train.shape\n",
    "print(test_shape)\n",
    "print(train_shape)"
   ]
  },
  {
   "cell_type": "code",
   "execution_count": 2,
   "id": "bb227f66",
   "metadata": {},
   "outputs": [
    {
     "data": {
      "text/html": [
       "<div>\n",
       "<style scoped>\n",
       "    .dataframe tbody tr th:only-of-type {\n",
       "        vertical-align: middle;\n",
       "    }\n",
       "\n",
       "    .dataframe tbody tr th {\n",
       "        vertical-align: top;\n",
       "    }\n",
       "\n",
       "    .dataframe thead th {\n",
       "        text-align: right;\n",
       "    }\n",
       "</style>\n",
       "<table border=\"1\" class=\"dataframe\">\n",
       "  <thead>\n",
       "    <tr style=\"text-align: right;\">\n",
       "      <th></th>\n",
       "      <th>Id</th>\n",
       "      <th>MSSubClass</th>\n",
       "      <th>MSZoning</th>\n",
       "      <th>LotFrontage</th>\n",
       "      <th>LotArea</th>\n",
       "      <th>Street</th>\n",
       "      <th>Alley</th>\n",
       "      <th>LotShape</th>\n",
       "      <th>LandContour</th>\n",
       "      <th>Utilities</th>\n",
       "      <th>...</th>\n",
       "      <th>PoolArea</th>\n",
       "      <th>PoolQC</th>\n",
       "      <th>Fence</th>\n",
       "      <th>MiscFeature</th>\n",
       "      <th>MiscVal</th>\n",
       "      <th>MoSold</th>\n",
       "      <th>YrSold</th>\n",
       "      <th>SaleType</th>\n",
       "      <th>SaleCondition</th>\n",
       "      <th>SalePrice</th>\n",
       "    </tr>\n",
       "  </thead>\n",
       "  <tbody>\n",
       "    <tr>\n",
       "      <th>0</th>\n",
       "      <td>1</td>\n",
       "      <td>60</td>\n",
       "      <td>RL</td>\n",
       "      <td>65.0</td>\n",
       "      <td>8450</td>\n",
       "      <td>Pave</td>\n",
       "      <td>NaN</td>\n",
       "      <td>Reg</td>\n",
       "      <td>Lvl</td>\n",
       "      <td>AllPub</td>\n",
       "      <td>...</td>\n",
       "      <td>0</td>\n",
       "      <td>NaN</td>\n",
       "      <td>NaN</td>\n",
       "      <td>NaN</td>\n",
       "      <td>0</td>\n",
       "      <td>2</td>\n",
       "      <td>2008</td>\n",
       "      <td>WD</td>\n",
       "      <td>Normal</td>\n",
       "      <td>208500</td>\n",
       "    </tr>\n",
       "    <tr>\n",
       "      <th>1</th>\n",
       "      <td>2</td>\n",
       "      <td>20</td>\n",
       "      <td>RL</td>\n",
       "      <td>80.0</td>\n",
       "      <td>9600</td>\n",
       "      <td>Pave</td>\n",
       "      <td>NaN</td>\n",
       "      <td>Reg</td>\n",
       "      <td>Lvl</td>\n",
       "      <td>AllPub</td>\n",
       "      <td>...</td>\n",
       "      <td>0</td>\n",
       "      <td>NaN</td>\n",
       "      <td>NaN</td>\n",
       "      <td>NaN</td>\n",
       "      <td>0</td>\n",
       "      <td>5</td>\n",
       "      <td>2007</td>\n",
       "      <td>WD</td>\n",
       "      <td>Normal</td>\n",
       "      <td>181500</td>\n",
       "    </tr>\n",
       "    <tr>\n",
       "      <th>2</th>\n",
       "      <td>3</td>\n",
       "      <td>60</td>\n",
       "      <td>RL</td>\n",
       "      <td>68.0</td>\n",
       "      <td>11250</td>\n",
       "      <td>Pave</td>\n",
       "      <td>NaN</td>\n",
       "      <td>IR1</td>\n",
       "      <td>Lvl</td>\n",
       "      <td>AllPub</td>\n",
       "      <td>...</td>\n",
       "      <td>0</td>\n",
       "      <td>NaN</td>\n",
       "      <td>NaN</td>\n",
       "      <td>NaN</td>\n",
       "      <td>0</td>\n",
       "      <td>9</td>\n",
       "      <td>2008</td>\n",
       "      <td>WD</td>\n",
       "      <td>Normal</td>\n",
       "      <td>223500</td>\n",
       "    </tr>\n",
       "    <tr>\n",
       "      <th>3</th>\n",
       "      <td>4</td>\n",
       "      <td>70</td>\n",
       "      <td>RL</td>\n",
       "      <td>60.0</td>\n",
       "      <td>9550</td>\n",
       "      <td>Pave</td>\n",
       "      <td>NaN</td>\n",
       "      <td>IR1</td>\n",
       "      <td>Lvl</td>\n",
       "      <td>AllPub</td>\n",
       "      <td>...</td>\n",
       "      <td>0</td>\n",
       "      <td>NaN</td>\n",
       "      <td>NaN</td>\n",
       "      <td>NaN</td>\n",
       "      <td>0</td>\n",
       "      <td>2</td>\n",
       "      <td>2006</td>\n",
       "      <td>WD</td>\n",
       "      <td>Abnorml</td>\n",
       "      <td>140000</td>\n",
       "    </tr>\n",
       "    <tr>\n",
       "      <th>4</th>\n",
       "      <td>5</td>\n",
       "      <td>60</td>\n",
       "      <td>RL</td>\n",
       "      <td>84.0</td>\n",
       "      <td>14260</td>\n",
       "      <td>Pave</td>\n",
       "      <td>NaN</td>\n",
       "      <td>IR1</td>\n",
       "      <td>Lvl</td>\n",
       "      <td>AllPub</td>\n",
       "      <td>...</td>\n",
       "      <td>0</td>\n",
       "      <td>NaN</td>\n",
       "      <td>NaN</td>\n",
       "      <td>NaN</td>\n",
       "      <td>0</td>\n",
       "      <td>12</td>\n",
       "      <td>2008</td>\n",
       "      <td>WD</td>\n",
       "      <td>Normal</td>\n",
       "      <td>250000</td>\n",
       "    </tr>\n",
       "  </tbody>\n",
       "</table>\n",
       "<p>5 rows × 81 columns</p>\n",
       "</div>"
      ],
      "text/plain": [
       "   Id  MSSubClass MSZoning  LotFrontage  LotArea Street Alley LotShape  \\\n",
       "0   1          60       RL         65.0     8450   Pave   NaN      Reg   \n",
       "1   2          20       RL         80.0     9600   Pave   NaN      Reg   \n",
       "2   3          60       RL         68.0    11250   Pave   NaN      IR1   \n",
       "3   4          70       RL         60.0     9550   Pave   NaN      IR1   \n",
       "4   5          60       RL         84.0    14260   Pave   NaN      IR1   \n",
       "\n",
       "  LandContour Utilities  ... PoolArea PoolQC Fence MiscFeature MiscVal MoSold  \\\n",
       "0         Lvl    AllPub  ...        0    NaN   NaN         NaN       0      2   \n",
       "1         Lvl    AllPub  ...        0    NaN   NaN         NaN       0      5   \n",
       "2         Lvl    AllPub  ...        0    NaN   NaN         NaN       0      9   \n",
       "3         Lvl    AllPub  ...        0    NaN   NaN         NaN       0      2   \n",
       "4         Lvl    AllPub  ...        0    NaN   NaN         NaN       0     12   \n",
       "\n",
       "  YrSold  SaleType  SaleCondition  SalePrice  \n",
       "0   2008        WD         Normal     208500  \n",
       "1   2007        WD         Normal     181500  \n",
       "2   2008        WD         Normal     223500  \n",
       "3   2006        WD        Abnorml     140000  \n",
       "4   2008        WD         Normal     250000  \n",
       "\n",
       "[5 rows x 81 columns]"
      ]
     },
     "execution_count": 2,
     "metadata": {},
     "output_type": "execute_result"
    }
   ],
   "source": [
    "train.head()"
   ]
  },
  {
   "cell_type": "markdown",
   "id": "bff3f29a",
   "metadata": {},
   "source": [
    "# Feature Engineering"
   ]
  },
  {
   "cell_type": "code",
   "execution_count": 3,
   "id": "d1869d2f",
   "metadata": {},
   "outputs": [
    {
     "data": {
      "text/plain": [
       "Id                 0\n",
       "SaleCondition      0\n",
       "Heating            0\n",
       "HeatingQC          0\n",
       "CentralAir         0\n",
       "                ... \n",
       "GarageQual        81\n",
       "GarageCond        81\n",
       "GarageType        81\n",
       "GarageFinish      81\n",
       "LotFrontage      259\n",
       "Length: 76, dtype: int64"
      ]
     },
     "execution_count": 3,
     "metadata": {},
     "output_type": "execute_result"
    }
   ],
   "source": [
    "# Remove columns containing missing values above 30%\n",
    "num_missing = train.isnull().sum()\n",
    "drop_missing_cols = num_missing[num_missing > len(train)*0.3].index\n",
    "train = train.drop(drop_missing_cols, axis=1)\n",
    "train.isnull().sum().sort_values()"
   ]
  },
  {
   "cell_type": "code",
   "execution_count": 4,
   "id": "12122f5a",
   "metadata": {},
   "outputs": [
    {
     "data": {
      "text/plain": [
       "0       2003.0\n",
       "1       1976.0\n",
       "2       2001.0\n",
       "3       1998.0\n",
       "4       2000.0\n",
       "         ...  \n",
       "1455    1999.0\n",
       "1456    1978.0\n",
       "1457    1941.0\n",
       "1458    1950.0\n",
       "1459    1965.0\n",
       "Name: GarageYrBlt, Length: 1460, dtype: float64"
      ]
     },
     "execution_count": 4,
     "metadata": {},
     "output_type": "execute_result"
    }
   ],
   "source": [
    "# Convert data types of numeric columns which were set as object to float\n",
    "train['LotFrontage'].astype(float)\n",
    "train['MasVnrArea'].astype(float)\n",
    "train['GarageYrBlt'].astype(float)"
   ]
  },
  {
   "cell_type": "code",
   "execution_count": 5,
   "id": "b8004168",
   "metadata": {},
   "outputs": [],
   "source": [
    "# Convert null values in categorical columns to the most frequent value\n",
    "num_text_missing = train.select_dtypes(include=[\"object\"]).isnull().sum()\n",
    "\n",
    "for col in num_text_missing.index:\n",
    "    train[col].fillna(train[col].value_counts().index[0], inplace=True)\n",
    "\n",
    "for col in num_text_missing.index:\n",
    "    test[col].fillna(test[col].value_counts().index[0], inplace=True)"
   ]
  },
  {
   "cell_type": "code",
   "execution_count": 6,
   "id": "0a485997",
   "metadata": {},
   "outputs": [
    {
     "data": {
      "text/plain": [
       "Id              0\n",
       "Functional      0\n",
       "TotRmsAbvGrd    0\n",
       "KitchenQual     0\n",
       "KitchenAbvGr    0\n",
       "               ..\n",
       "Exterior1st     0\n",
       "RoofMatl        0\n",
       "RoofStyle       0\n",
       "ExterCond       0\n",
       "SalePrice       0\n",
       "Length: 76, dtype: int64"
      ]
     },
     "execution_count": 6,
     "metadata": {},
     "output_type": "execute_result"
    }
   ],
   "source": [
    "# Convert null values in numeric columns to the means of the columns\n",
    "train = train.fillna(train.mean())\n",
    "test = test.fillna(test.mean())\n",
    "train.isnull().sum().sort_values()"
   ]
  },
  {
   "cell_type": "code",
   "execution_count": 7,
   "id": "ddff5eef",
   "metadata": {},
   "outputs": [],
   "source": [
    "# Drop the variables that one category is dominant\n",
    "text_columns = train.select_dtypes(include=[\"object\"]).columns\n",
    "\n",
    "for col in text_columns:\n",
    "    if max(train[col].value_counts()) > len(train)*0.95:\n",
    "        train = train.drop(col, axis=1)"
   ]
  },
  {
   "cell_type": "markdown",
   "id": "1def9b7b",
   "metadata": {},
   "source": [
    "### Change year columns to useful information"
   ]
  },
  {
   "cell_type": "code",
   "execution_count": 8,
   "id": "912e4a3a",
   "metadata": {},
   "outputs": [],
   "source": [
    "train[\"years_after_built\"] = train[\"YrSold\"] - train[\"YearBuilt\"]\n",
    "train[\"years_after_remod\"] = train[\"YrSold\"] - train[\"YearRemodAdd\"]\n",
    "train[\"years_after_garage\"] = train[\"YrSold\"] - train[\"GarageYrBlt\"]\n",
    "# Drop \"Yr Sold\", \"GarageYrBlt\" and \"Year Built\" because we don't need them anymore\n",
    "train = train.drop([\"YearRemodAdd\", \"YearBuilt\", \"GarageYrBlt\"], axis=1)"
   ]
  },
  {
   "cell_type": "code",
   "execution_count": 9,
   "id": "e1cb9bb4",
   "metadata": {},
   "outputs": [],
   "source": [
    "test[\"years_after_built\"] = test[\"YrSold\"] - test[\"YearBuilt\"]\n",
    "test[\"years_after_remod\"] = test[\"YrSold\"] - test[\"YearRemodAdd\"]\n",
    "test[\"years_after_garage\"] = test[\"YrSold\"] - test[\"GarageYrBlt\"]\n",
    "# Drop \"Yr Sold\", \"GarageYrBlt\" and \"Year Built\" because we don't need them anymore\n",
    "test = test.drop([\"YearRemodAdd\", \"YearBuilt\", \"GarageYrBlt\"], axis=1)"
   ]
  },
  {
   "cell_type": "markdown",
   "id": "782ef93d",
   "metadata": {},
   "source": [
    "### Handle target leakages and useless columns\n",
    "   - Since the target variable is SalesPrice, we don't have the information of sales when we predict. "
   ]
  },
  {
   "cell_type": "code",
   "execution_count": 10,
   "id": "e994b880",
   "metadata": {},
   "outputs": [],
   "source": [
    "## Drop columns that leak info about the final sale\n",
    "train = train.drop([\"MoSold\", \"SaleCondition\", \"SaleType\", \"YrSold\"], axis=1)"
   ]
  },
  {
   "cell_type": "markdown",
   "id": "ba3412f8",
   "metadata": {},
   "source": [
    "# Feature Selection"
   ]
  },
  {
   "cell_type": "code",
   "execution_count": 11,
   "id": "d27dd863",
   "metadata": {},
   "outputs": [],
   "source": [
    "train_copy = train.copy()\n",
    "text_cols = train_copy.select_dtypes(include=['object'])\n",
    "text_c = text_cols.columns"
   ]
  },
  {
   "cell_type": "code",
   "execution_count": 12,
   "id": "6460a30f",
   "metadata": {},
   "outputs": [],
   "source": [
    "from sklearn.preprocessing import LabelEncoder\n",
    "class_le = LabelEncoder()\n",
    "\n",
    "for col in text_c:\n",
    "    train_copy[col] = class_le.fit_transform(train_copy[col].values)"
   ]
  },
  {
   "cell_type": "code",
   "execution_count": 13,
   "id": "90e0238c",
   "metadata": {},
   "outputs": [
    {
     "data": {
      "text/plain": [
       "Index(['BsmtFinSF2', 'LandContour', 'BsmtHalfBath', 'MasVnrType', 'MiscVal',\n",
       "       'LowQualFinSF', 'BsmtFinType2', '3SsnPorch'],\n",
       "      dtype='object')"
      ]
     },
     "execution_count": 13,
     "metadata": {},
     "output_type": "execute_result"
    }
   ],
   "source": [
    "abs_corr_coeffs = train_copy.corr()['SalePrice'].abs().sort_values()\n",
    "drop_cols = abs_corr_coeffs[abs_corr_coeffs < 0.05].index\n",
    "drop_cols = drop_cols.drop('Id')\n",
    "drop_cols"
   ]
  },
  {
   "cell_type": "code",
   "execution_count": 14,
   "id": "fbdcf59e",
   "metadata": {},
   "outputs": [],
   "source": [
    "# Drop the columns from the original data set\n",
    "train = train.drop(drop_cols, axis=1)"
   ]
  },
  {
   "cell_type": "code",
   "execution_count": 15,
   "id": "29b6f8c7",
   "metadata": {},
   "outputs": [],
   "source": [
    "# Select just the remaining text columns and convert to categorical\n",
    "text_cols = train.select_dtypes(include=['object'])\n",
    "for col in text_cols:\n",
    "    train[col] = train[col].astype('category')\n",
    "    \n",
    "# Create dummy columns and add back to the dataframe!\n",
    "train = pd.concat([train, pd.get_dummies(train.select_dtypes(include=['category']))], axis=1).drop(text_cols,axis=1)\n",
    "\n",
    "text_cols_t = test.select_dtypes(include=['object'])\n",
    "for col in text_cols_t:\n",
    "    test[col] = test[col].astype('category')\n",
    "    \n",
    "# Create dummy columns and add back to the dataframe!\n",
    "test = pd.concat([test, pd.get_dummies(test.select_dtypes(include=['category']))], axis=1).drop(text_cols_t,axis=1)"
   ]
  },
  {
   "cell_type": "markdown",
   "id": "76aa71b6",
   "metadata": {},
   "source": [
    "# Modeling"
   ]
  },
  {
   "cell_type": "code",
   "execution_count": 16,
   "id": "d0432860",
   "metadata": {},
   "outputs": [],
   "source": [
    "features = [c for c in train.columns if c not in ['SalePrice', 'Id']]"
   ]
  },
  {
   "cell_type": "code",
   "execution_count": 17,
   "id": "960a964b",
   "metadata": {},
   "outputs": [],
   "source": [
    "remove = ['HouseStyle_2.5Fin', 'Exterior1st_ImStucc', 'Exterior1st_Stone', 'Exterior2nd_Other', 'Electrical_Mix']\n",
    "\n",
    "for col in remove:\n",
    "    if col in features:\n",
    "        features.remove(col)"
   ]
  },
  {
   "cell_type": "code",
   "execution_count": 18,
   "id": "c781ef08",
   "metadata": {},
   "outputs": [],
   "source": [
    "from sklearn.preprocessing import minmax_scale\n",
    "\n",
    "for col in features:\n",
    "    train[col + \"_scaled\"] = minmax_scale(train[col])\n",
    "    test[col + \"_scaled\"] = minmax_scale(test[col])"
   ]
  },
  {
   "cell_type": "code",
   "execution_count": 19,
   "id": "a3b500a2",
   "metadata": {},
   "outputs": [],
   "source": [
    "all_X  = train[features]\n",
    "all_y  = train['SalePrice']\n",
    "holdout_X = test[features]"
   ]
  },
  {
   "cell_type": "markdown",
   "id": "3fe749ff",
   "metadata": {},
   "source": [
    "### Linear Regression"
   ]
  },
  {
   "cell_type": "code",
   "execution_count": 20,
   "id": "b57f0723",
   "metadata": {},
   "outputs": [],
   "source": [
    "from sklearn.linear_model import LinearRegression\n",
    "from sklearn.feature_selection import RFECV\n",
    "\n",
    "lr = LinearRegression()\n",
    "selector = RFECV(lr,cv=10)\n",
    "selector.fit(all_X,all_y)\n",
    "\n",
    "optimized_columns = all_X.columns[selector.support_]\n",
    "all_X_lr = all_X[optimized_columns]\n",
    "holdout_X_lr = holdout_X[optimized_columns]"
   ]
  },
  {
   "cell_type": "code",
   "execution_count": 21,
   "id": "d12b2d92",
   "metadata": {},
   "outputs": [
    {
     "name": "stdout",
     "output_type": "stream",
     "text": [
      "RMSE: 26517.316172849005\n",
      "R-Squared 0.84395981370928\n"
     ]
    }
   ],
   "source": [
    "from sklearn.model_selection import cross_val_score\n",
    "import numpy as np\n",
    "\n",
    "from sklearn.metrics import mean_squared_error\n",
    "\n",
    "lr = LinearRegression()\n",
    "lr.fit(all_X_lr, all_y)\n",
    "predictions = lr.predict(all_X_lr)\n",
    "mse_value = mean_squared_error(all_y, predictions)\n",
    "lr_rmse = np.sqrt(mse_value)\n",
    "print('RMSE:', lr_rmse)\n",
    "print('R-Squared', np.mean(cross_val_score(lr, all_X_lr, all_y ,cv=10)))"
   ]
  },
  {
   "cell_type": "code",
   "execution_count": 22,
   "id": "a44345f2",
   "metadata": {},
   "outputs": [],
   "source": [
    "holdout_predictions = lr.predict(holdout_X_lr)\n",
    "\n",
    "holdout_ids = test[\"Id\"]\n",
    "submission_df = {\"Id\": holdout_ids,\n",
    "                 \"SalePrice\": holdout_predictions}\n",
    "submission = pd.DataFrame(submission_df)\n",
    "\n",
    "submission.to_csv(\"submission_lr.csv\",index=False)\n",
    "# 0.16935"
   ]
  },
  {
   "cell_type": "markdown",
   "id": "b512ae84",
   "metadata": {},
   "source": [
    "### Penalized Regression - Ridge"
   ]
  },
  {
   "cell_type": "code",
   "execution_count": 23,
   "id": "7fb79361",
   "metadata": {},
   "outputs": [],
   "source": [
    "from sklearn.linear_model import RidgeCV\n",
    "ridge = RidgeCV()\n",
    "selector = RFECV(ridge,cv=10)\n",
    "selector.fit(all_X,all_y)\n",
    "\n",
    "optimized_columns = all_X.columns[selector.support_]\n",
    "all_X_rd = all_X[optimized_columns]\n",
    "holdout_X_rd = holdout_X[optimized_columns]"
   ]
  },
  {
   "cell_type": "code",
   "execution_count": 24,
   "id": "4025af0f",
   "metadata": {},
   "outputs": [
    {
     "name": "stdout",
     "output_type": "stream",
     "text": [
      "RMSE: 27135.539798549333\n",
      "R-Squared 0.8583587600692864\n"
     ]
    }
   ],
   "source": [
    "ridge = RidgeCV(cv=10).fit(all_X_rd, all_y)\n",
    "predictions = ridge.predict(all_X_rd)\n",
    "mse_value = mean_squared_error(all_y, predictions)\n",
    "ridge_rmse = np.sqrt(mse_value)\n",
    "print('RMSE:', ridge_rmse)\n",
    "print('R-Squared', np.mean(cross_val_score(ridge, all_X_rd, all_y ,cv=10)))"
   ]
  },
  {
   "cell_type": "code",
   "execution_count": 25,
   "id": "4f7aaa4a",
   "metadata": {},
   "outputs": [],
   "source": [
    "holdout_predictions = ridge.predict(holdout_X_rd)\n",
    "\n",
    "holdout_ids = test[\"Id\"]\n",
    "submission_df = {\"Id\": holdout_ids,\n",
    "                 \"SalePrice\": holdout_predictions}\n",
    "submission = pd.DataFrame(submission_df)\n",
    "\n",
    "submission.to_csv(\"submission_rd.csv\",index=False)\n",
    "# 0.15594"
   ]
  },
  {
   "cell_type": "markdown",
   "id": "fcb9e11c",
   "metadata": {},
   "source": [
    "### Random Forest"
   ]
  },
  {
   "cell_type": "code",
   "execution_count": 26,
   "id": "ac015a6b",
   "metadata": {},
   "outputs": [],
   "source": [
    "from sklearn.feature_selection import RFECV\n",
    "from sklearn.ensemble import RandomForestRegressor\n",
    "rf = RandomForestRegressor()\n",
    "selector = RFECV(rf,cv=3)\n",
    "selector.fit(all_X,all_y)\n",
    "\n",
    "optimized_columns = all_X.columns[selector.support_]\n",
    "all_X_rf = all_X[optimized_columns]\n",
    "holdout_X_rf = holdout_X[optimized_columns]"
   ]
  },
  {
   "cell_type": "code",
   "execution_count": 27,
   "id": "e26d345b",
   "metadata": {},
   "outputs": [
    {
     "name": "stdout",
     "output_type": "stream",
     "text": [
      "RMSE: 10826.338593754937\n",
      "R-Squared 0.8703153088962117\n"
     ]
    }
   ],
   "source": [
    "from sklearn.model_selection import cross_val_score\n",
    "from sklearn.metrics import mean_squared_error\n",
    "import numpy as np\n",
    "\n",
    "from sklearn.ensemble import RandomForestRegressor\n",
    "rf.fit(all_X_rf, all_y)\n",
    "predictions = rf.predict(all_X_rf)\n",
    "mse_value = mean_squared_error(all_y, predictions)\n",
    "rf_rmse = np.sqrt(mse_value)\n",
    "print('RMSE:', rf_rmse)\n",
    "print('R-Squared', np.mean(cross_val_score(rf, all_X_rf, all_y, cv=10)))"
   ]
  },
  {
   "cell_type": "code",
   "execution_count": 28,
   "id": "ae356c94",
   "metadata": {},
   "outputs": [],
   "source": [
    "holdout_predictions = rf.predict(holdout_X_rf)\n",
    "\n",
    "holdout_ids = test[\"Id\"]\n",
    "submission_df = {\"Id\": holdout_ids,\n",
    "                 \"SalePrice\": holdout_predictions}\n",
    "submission = pd.DataFrame(submission_df)\n",
    "\n",
    "submission.to_csv(\"submission_rf.csv\",index=False)\n",
    "# 0.14731"
   ]
  },
  {
   "cell_type": "markdown",
   "id": "6cad8513",
   "metadata": {},
   "source": [
    "### Neural Networks\n",
    "\n",
    "Let's try to find the optimal hyperparameter using manual input since gridsearch takes too long to figure out."
   ]
  },
  {
   "cell_type": "code",
   "execution_count": 29,
   "id": "0bed64cb",
   "metadata": {},
   "outputs": [
    {
     "name": "stderr",
     "output_type": "stream",
     "text": [
      "C:\\Users\\newbm\\anaconda3\\lib\\site-packages\\sklearn\\neural_network\\_multilayer_perceptron.py:614: ConvergenceWarning: Stochastic Optimizer: Maximum iterations (100) reached and the optimization hasn't converged yet.\n",
      "  warnings.warn(\n"
     ]
    },
    {
     "name": "stdout",
     "output_type": "stream",
     "text": [
      "RMSE: 30221.289187573217\n"
     ]
    },
    {
     "name": "stderr",
     "output_type": "stream",
     "text": [
      "C:\\Users\\newbm\\anaconda3\\lib\\site-packages\\sklearn\\neural_network\\_multilayer_perceptron.py:614: ConvergenceWarning: Stochastic Optimizer: Maximum iterations (100) reached and the optimization hasn't converged yet.\n",
      "  warnings.warn(\n"
     ]
    },
    {
     "name": "stdout",
     "output_type": "stream",
     "text": [
      "R-Squared 0.741503115279839\n"
     ]
    }
   ],
   "source": [
    "from sklearn.neural_network import MLPRegressor\n",
    "regr = MLPRegressor(hidden_layer_sizes=29, learning_rate_init = 0.49, max_iter=100, early_stopping=True, random_state=1)\n",
    "regr.fit(all_X, all_y)\n",
    "predictions = regr.predict(all_X)\n",
    "mse_value = mean_squared_error(all_y, predictions)\n",
    "nn_rmse = np.sqrt(mse_value)\n",
    "\n",
    "print('RMSE:' , nn_rmse)\n",
    "print('R-Squared', np.mean(cross_val_score(regr, all_X, all_y, cv=10)))\n",
    "\n",
    "# 9:35956.01431678097 / 0.743612285628984\n",
    "# 25:34017.14383713157 / 0.7260730285099377\n",
    "# 29:30221.289187573217 / 0.741503115279839"
   ]
  },
  {
   "cell_type": "code",
   "execution_count": 30,
   "id": "2572f52e",
   "metadata": {},
   "outputs": [],
   "source": [
    "holdout_predictions = regr.predict(holdout_X)\n",
    "\n",
    "holdout_ids = test[\"Id\"]\n",
    "submission_df = {\"Id\": holdout_ids,\n",
    "                 \"SalePrice\": holdout_predictions}\n",
    "submission = pd.DataFrame(submission_df)\n",
    "\n",
    "submission.to_csv(\"submission_nn.csv\",index=False)\n",
    "# 0.18200"
   ]
  },
  {
   "cell_type": "markdown",
   "id": "f73ac756",
   "metadata": {},
   "source": [
    "# Model Comparison"
   ]
  },
  {
   "cell_type": "code",
   "execution_count": 31,
   "id": "ace9687c",
   "metadata": {},
   "outputs": [
    {
     "data": {
      "text/html": [
       "<div>\n",
       "<style scoped>\n",
       "    .dataframe tbody tr th:only-of-type {\n",
       "        vertical-align: middle;\n",
       "    }\n",
       "\n",
       "    .dataframe tbody tr th {\n",
       "        vertical-align: top;\n",
       "    }\n",
       "\n",
       "    .dataframe thead th {\n",
       "        text-align: right;\n",
       "    }\n",
       "</style>\n",
       "<table border=\"1\" class=\"dataframe\">\n",
       "  <thead>\n",
       "    <tr style=\"text-align: right;\">\n",
       "      <th></th>\n",
       "      <th>Root Mean Square Error</th>\n",
       "    </tr>\n",
       "  </thead>\n",
       "  <tbody>\n",
       "    <tr>\n",
       "      <th>Linear Regression</th>\n",
       "      <td>26517.316173</td>\n",
       "    </tr>\n",
       "    <tr>\n",
       "      <th>Ridge</th>\n",
       "      <td>27135.539799</td>\n",
       "    </tr>\n",
       "    <tr>\n",
       "      <th>Random Forest</th>\n",
       "      <td>10826.338594</td>\n",
       "    </tr>\n",
       "    <tr>\n",
       "      <th>Neural Networks</th>\n",
       "      <td>30221.289188</td>\n",
       "    </tr>\n",
       "  </tbody>\n",
       "</table>\n",
       "</div>"
      ],
      "text/plain": [
       "                   Root Mean Square Error\n",
       "Linear Regression            26517.316173\n",
       "Ridge                        27135.539799\n",
       "Random Forest                10826.338594\n",
       "Neural Networks              30221.289188"
      ]
     },
     "execution_count": 31,
     "metadata": {},
     "output_type": "execute_result"
    }
   ],
   "source": [
    "RMSE=[lr_rmse, ridge_rmse, rf_rmse, nn_rmse]\n",
    "col={'Root Mean Square Error': RMSE}\n",
    "models=['Linear Regression','Ridge','Random Forest','Neural Networks']\n",
    "dfplot=pd.DataFrame(data=col,index=models)\n",
    "dfplot"
   ]
  },
  {
   "cell_type": "markdown",
   "id": "3c766083",
   "metadata": {},
   "source": [
    "Random Forest is the best model."
   ]
  },
  {
   "cell_type": "code",
   "execution_count": null,
   "id": "9155d484",
   "metadata": {},
   "outputs": [],
   "source": []
  }
 ],
 "metadata": {
  "kernelspec": {
   "display_name": "Python 3",
   "language": "python",
   "name": "python3"
  },
  "language_info": {
   "codemirror_mode": {
    "name": "ipython",
    "version": 3
   },
   "file_extension": ".py",
   "mimetype": "text/x-python",
   "name": "python",
   "nbconvert_exporter": "python",
   "pygments_lexer": "ipython3",
   "version": "3.8.8"
  }
 },
 "nbformat": 4,
 "nbformat_minor": 5
}
