{
 "cells": [
  {
   "cell_type": "markdown",
   "id": "6a63d2f0",
   "metadata": {},
   "source": [
    "# Prediction for New York City Taxi Trip Duration\n",
    "\n",
    "The dataset is based on the 2016 NYC Yellow Cab trip record data originally published by the NYC Taxi and Limousine Commission (TLC). Based on individual trip attributes, we are going to predict the duration of each trip in the test set."
   ]
  },
  {
   "cell_type": "code",
   "execution_count": 1,
   "id": "14647574",
   "metadata": {},
   "outputs": [
    {
     "data": {
      "text/html": [
       "<div>\n",
       "<style scoped>\n",
       "    .dataframe tbody tr th:only-of-type {\n",
       "        vertical-align: middle;\n",
       "    }\n",
       "\n",
       "    .dataframe tbody tr th {\n",
       "        vertical-align: top;\n",
       "    }\n",
       "\n",
       "    .dataframe thead th {\n",
       "        text-align: right;\n",
       "    }\n",
       "</style>\n",
       "<table border=\"1\" class=\"dataframe\">\n",
       "  <thead>\n",
       "    <tr style=\"text-align: right;\">\n",
       "      <th></th>\n",
       "      <th>id</th>\n",
       "      <th>vendor_id</th>\n",
       "      <th>pickup_datetime</th>\n",
       "      <th>dropoff_datetime</th>\n",
       "      <th>passenger_count</th>\n",
       "      <th>pickup_longitude</th>\n",
       "      <th>pickup_latitude</th>\n",
       "      <th>dropoff_longitude</th>\n",
       "      <th>dropoff_latitude</th>\n",
       "      <th>store_and_fwd_flag</th>\n",
       "      <th>trip_duration</th>\n",
       "    </tr>\n",
       "  </thead>\n",
       "  <tbody>\n",
       "    <tr>\n",
       "      <th>0</th>\n",
       "      <td>id2875421</td>\n",
       "      <td>2</td>\n",
       "      <td>2016-03-14 17:24:55</td>\n",
       "      <td>2016-03-14 17:32:30</td>\n",
       "      <td>1</td>\n",
       "      <td>-73.982155</td>\n",
       "      <td>40.767937</td>\n",
       "      <td>-73.964630</td>\n",
       "      <td>40.765602</td>\n",
       "      <td>N</td>\n",
       "      <td>455</td>\n",
       "    </tr>\n",
       "    <tr>\n",
       "      <th>1</th>\n",
       "      <td>id2377394</td>\n",
       "      <td>1</td>\n",
       "      <td>2016-06-12 00:43:35</td>\n",
       "      <td>2016-06-12 00:54:38</td>\n",
       "      <td>1</td>\n",
       "      <td>-73.980415</td>\n",
       "      <td>40.738564</td>\n",
       "      <td>-73.999481</td>\n",
       "      <td>40.731152</td>\n",
       "      <td>N</td>\n",
       "      <td>663</td>\n",
       "    </tr>\n",
       "    <tr>\n",
       "      <th>2</th>\n",
       "      <td>id3858529</td>\n",
       "      <td>2</td>\n",
       "      <td>2016-01-19 11:35:24</td>\n",
       "      <td>2016-01-19 12:10:48</td>\n",
       "      <td>1</td>\n",
       "      <td>-73.979027</td>\n",
       "      <td>40.763939</td>\n",
       "      <td>-74.005333</td>\n",
       "      <td>40.710087</td>\n",
       "      <td>N</td>\n",
       "      <td>2124</td>\n",
       "    </tr>\n",
       "    <tr>\n",
       "      <th>3</th>\n",
       "      <td>id3504673</td>\n",
       "      <td>2</td>\n",
       "      <td>2016-04-06 19:32:31</td>\n",
       "      <td>2016-04-06 19:39:40</td>\n",
       "      <td>1</td>\n",
       "      <td>-74.010040</td>\n",
       "      <td>40.719971</td>\n",
       "      <td>-74.012268</td>\n",
       "      <td>40.706718</td>\n",
       "      <td>N</td>\n",
       "      <td>429</td>\n",
       "    </tr>\n",
       "    <tr>\n",
       "      <th>4</th>\n",
       "      <td>id2181028</td>\n",
       "      <td>2</td>\n",
       "      <td>2016-03-26 13:30:55</td>\n",
       "      <td>2016-03-26 13:38:10</td>\n",
       "      <td>1</td>\n",
       "      <td>-73.973053</td>\n",
       "      <td>40.793209</td>\n",
       "      <td>-73.972923</td>\n",
       "      <td>40.782520</td>\n",
       "      <td>N</td>\n",
       "      <td>435</td>\n",
       "    </tr>\n",
       "  </tbody>\n",
       "</table>\n",
       "</div>"
      ],
      "text/plain": [
       "          id  vendor_id      pickup_datetime     dropoff_datetime  \\\n",
       "0  id2875421          2  2016-03-14 17:24:55  2016-03-14 17:32:30   \n",
       "1  id2377394          1  2016-06-12 00:43:35  2016-06-12 00:54:38   \n",
       "2  id3858529          2  2016-01-19 11:35:24  2016-01-19 12:10:48   \n",
       "3  id3504673          2  2016-04-06 19:32:31  2016-04-06 19:39:40   \n",
       "4  id2181028          2  2016-03-26 13:30:55  2016-03-26 13:38:10   \n",
       "\n",
       "   passenger_count  pickup_longitude  pickup_latitude  dropoff_longitude  \\\n",
       "0                1        -73.982155        40.767937         -73.964630   \n",
       "1                1        -73.980415        40.738564         -73.999481   \n",
       "2                1        -73.979027        40.763939         -74.005333   \n",
       "3                1        -74.010040        40.719971         -74.012268   \n",
       "4                1        -73.973053        40.793209         -73.972923   \n",
       "\n",
       "   dropoff_latitude store_and_fwd_flag  trip_duration  \n",
       "0         40.765602                  N            455  \n",
       "1         40.731152                  N            663  \n",
       "2         40.710087                  N           2124  \n",
       "3         40.706718                  N            429  \n",
       "4         40.782520                  N            435  "
      ]
     },
     "execution_count": 1,
     "metadata": {},
     "output_type": "execute_result"
    }
   ],
   "source": [
    "import pandas as pd\n",
    "train = pd.read_csv(\"train.csv\")\n",
    "test = pd.read_csv(\"test.csv\")\n",
    "train.head()"
   ]
  },
  {
   "cell_type": "code",
   "execution_count": 2,
   "id": "9947efd2",
   "metadata": {},
   "outputs": [
    {
     "data": {
      "text/html": [
       "<div>\n",
       "<style scoped>\n",
       "    .dataframe tbody tr th:only-of-type {\n",
       "        vertical-align: middle;\n",
       "    }\n",
       "\n",
       "    .dataframe tbody tr th {\n",
       "        vertical-align: top;\n",
       "    }\n",
       "\n",
       "    .dataframe thead th {\n",
       "        text-align: right;\n",
       "    }\n",
       "</style>\n",
       "<table border=\"1\" class=\"dataframe\">\n",
       "  <thead>\n",
       "    <tr style=\"text-align: right;\">\n",
       "      <th></th>\n",
       "      <th>id</th>\n",
       "      <th>vendor_id</th>\n",
       "      <th>pickup_datetime</th>\n",
       "      <th>passenger_count</th>\n",
       "      <th>pickup_longitude</th>\n",
       "      <th>pickup_latitude</th>\n",
       "      <th>dropoff_longitude</th>\n",
       "      <th>dropoff_latitude</th>\n",
       "      <th>store_and_fwd_flag</th>\n",
       "    </tr>\n",
       "  </thead>\n",
       "  <tbody>\n",
       "    <tr>\n",
       "      <th>0</th>\n",
       "      <td>id3004672</td>\n",
       "      <td>1</td>\n",
       "      <td>2016-06-30 23:59:58</td>\n",
       "      <td>1</td>\n",
       "      <td>-73.988129</td>\n",
       "      <td>40.732029</td>\n",
       "      <td>-73.990173</td>\n",
       "      <td>40.756680</td>\n",
       "      <td>N</td>\n",
       "    </tr>\n",
       "    <tr>\n",
       "      <th>1</th>\n",
       "      <td>id3505355</td>\n",
       "      <td>1</td>\n",
       "      <td>2016-06-30 23:59:53</td>\n",
       "      <td>1</td>\n",
       "      <td>-73.964203</td>\n",
       "      <td>40.679993</td>\n",
       "      <td>-73.959808</td>\n",
       "      <td>40.655403</td>\n",
       "      <td>N</td>\n",
       "    </tr>\n",
       "    <tr>\n",
       "      <th>2</th>\n",
       "      <td>id1217141</td>\n",
       "      <td>1</td>\n",
       "      <td>2016-06-30 23:59:47</td>\n",
       "      <td>1</td>\n",
       "      <td>-73.997437</td>\n",
       "      <td>40.737583</td>\n",
       "      <td>-73.986160</td>\n",
       "      <td>40.729523</td>\n",
       "      <td>N</td>\n",
       "    </tr>\n",
       "    <tr>\n",
       "      <th>3</th>\n",
       "      <td>id2150126</td>\n",
       "      <td>2</td>\n",
       "      <td>2016-06-30 23:59:41</td>\n",
       "      <td>1</td>\n",
       "      <td>-73.956070</td>\n",
       "      <td>40.771900</td>\n",
       "      <td>-73.986427</td>\n",
       "      <td>40.730469</td>\n",
       "      <td>N</td>\n",
       "    </tr>\n",
       "    <tr>\n",
       "      <th>4</th>\n",
       "      <td>id1598245</td>\n",
       "      <td>1</td>\n",
       "      <td>2016-06-30 23:59:33</td>\n",
       "      <td>1</td>\n",
       "      <td>-73.970215</td>\n",
       "      <td>40.761475</td>\n",
       "      <td>-73.961510</td>\n",
       "      <td>40.755890</td>\n",
       "      <td>N</td>\n",
       "    </tr>\n",
       "  </tbody>\n",
       "</table>\n",
       "</div>"
      ],
      "text/plain": [
       "          id  vendor_id      pickup_datetime  passenger_count  \\\n",
       "0  id3004672          1  2016-06-30 23:59:58                1   \n",
       "1  id3505355          1  2016-06-30 23:59:53                1   \n",
       "2  id1217141          1  2016-06-30 23:59:47                1   \n",
       "3  id2150126          2  2016-06-30 23:59:41                1   \n",
       "4  id1598245          1  2016-06-30 23:59:33                1   \n",
       "\n",
       "   pickup_longitude  pickup_latitude  dropoff_longitude  dropoff_latitude  \\\n",
       "0        -73.988129        40.732029         -73.990173         40.756680   \n",
       "1        -73.964203        40.679993         -73.959808         40.655403   \n",
       "2        -73.997437        40.737583         -73.986160         40.729523   \n",
       "3        -73.956070        40.771900         -73.986427         40.730469   \n",
       "4        -73.970215        40.761475         -73.961510         40.755890   \n",
       "\n",
       "  store_and_fwd_flag  \n",
       "0                  N  \n",
       "1                  N  \n",
       "2                  N  \n",
       "3                  N  \n",
       "4                  N  "
      ]
     },
     "execution_count": 2,
     "metadata": {},
     "output_type": "execute_result"
    }
   ],
   "source": [
    "test.head()"
   ]
  },
  {
   "cell_type": "code",
   "execution_count": 3,
   "id": "11ae92d2",
   "metadata": {},
   "outputs": [
    {
     "name": "stdout",
     "output_type": "stream",
     "text": [
      "(1458644, 11)\n",
      "(625134, 9)\n"
     ]
    }
   ],
   "source": [
    "print(train.shape)\n",
    "print(test.shape)"
   ]
  },
  {
   "cell_type": "code",
   "execution_count": 4,
   "id": "d89bdb42",
   "metadata": {},
   "outputs": [
    {
     "name": "stdout",
     "output_type": "stream",
     "text": [
      "<class 'pandas.core.frame.DataFrame'>\n",
      "RangeIndex: 1458644 entries, 0 to 1458643\n",
      "Data columns (total 11 columns):\n",
      " #   Column              Non-Null Count    Dtype  \n",
      "---  ------              --------------    -----  \n",
      " 0   id                  1458644 non-null  object \n",
      " 1   vendor_id           1458644 non-null  int64  \n",
      " 2   pickup_datetime     1458644 non-null  object \n",
      " 3   dropoff_datetime    1458644 non-null  object \n",
      " 4   passenger_count     1458644 non-null  int64  \n",
      " 5   pickup_longitude    1458644 non-null  float64\n",
      " 6   pickup_latitude     1458644 non-null  float64\n",
      " 7   dropoff_longitude   1458644 non-null  float64\n",
      " 8   dropoff_latitude    1458644 non-null  float64\n",
      " 9   store_and_fwd_flag  1458644 non-null  object \n",
      " 10  trip_duration       1458644 non-null  int64  \n",
      "dtypes: float64(4), int64(3), object(4)\n",
      "memory usage: 122.4+ MB\n"
     ]
    }
   ],
   "source": [
    "train.info()"
   ]
  },
  {
   "cell_type": "code",
   "execution_count": 5,
   "id": "d261af3e",
   "metadata": {},
   "outputs": [
    {
     "data": {
      "text/plain": [
       "count    1.458644e+06\n",
       "mean     9.594923e+02\n",
       "std      5.237432e+03\n",
       "min      1.000000e+00\n",
       "25%      3.970000e+02\n",
       "50%      6.620000e+02\n",
       "75%      1.075000e+03\n",
       "max      3.526282e+06\n",
       "Name: trip_duration, dtype: float64"
      ]
     },
     "execution_count": 5,
     "metadata": {},
     "output_type": "execute_result"
    }
   ],
   "source": [
    "train[\"trip_duration\"].describe()"
   ]
  },
  {
   "cell_type": "code",
   "execution_count": 6,
   "id": "c0f116b7",
   "metadata": {},
   "outputs": [
    {
     "data": {
      "text/plain": [
       "1    1033540\n",
       "2     210318\n",
       "5      78088\n",
       "3      59896\n",
       "6      48333\n",
       "4      28404\n",
       "0         60\n",
       "7          3\n",
       "8          1\n",
       "9          1\n",
       "Name: passenger_count, dtype: int64"
      ]
     },
     "execution_count": 6,
     "metadata": {},
     "output_type": "execute_result"
    }
   ],
   "source": [
    "train[\"passenger_count\"].value_counts()"
   ]
  },
  {
   "cell_type": "markdown",
   "id": "a44051e0",
   "metadata": {},
   "source": [
    "Let's remove the row which have 0 for passenger_count later on."
   ]
  },
  {
   "cell_type": "code",
   "execution_count": 7,
   "id": "037099d7",
   "metadata": {},
   "outputs": [
    {
     "data": {
      "text/plain": [
       "2    780302\n",
       "1    678342\n",
       "Name: vendor_id, dtype: int64"
      ]
     },
     "execution_count": 7,
     "metadata": {},
     "output_type": "execute_result"
    }
   ],
   "source": [
    "train[\"vendor_id\"].value_counts()"
   ]
  },
  {
   "cell_type": "code",
   "execution_count": 8,
   "id": "f62b0050",
   "metadata": {},
   "outputs": [
    {
     "data": {
      "text/plain": [
       "2    334374\n",
       "1    290760\n",
       "Name: vendor_id, dtype: int64"
      ]
     },
     "execution_count": 8,
     "metadata": {},
     "output_type": "execute_result"
    }
   ],
   "source": [
    "test[\"vendor_id\"].value_counts()"
   ]
  },
  {
   "cell_type": "markdown",
   "id": "b01ca752",
   "metadata": {},
   "source": [
    "## Data Preprocessing"
   ]
  },
  {
   "cell_type": "code",
   "execution_count": 9,
   "id": "a2793bd2",
   "metadata": {},
   "outputs": [
    {
     "data": {
      "text/plain": [
       "id                    0\n",
       "vendor_id             0\n",
       "pickup_datetime       0\n",
       "dropoff_datetime      0\n",
       "passenger_count       0\n",
       "pickup_longitude      0\n",
       "pickup_latitude       0\n",
       "dropoff_longitude     0\n",
       "dropoff_latitude      0\n",
       "store_and_fwd_flag    0\n",
       "trip_duration         0\n",
       "dtype: int64"
      ]
     },
     "execution_count": 9,
     "metadata": {},
     "output_type": "execute_result"
    }
   ],
   "source": [
    "train.isnull().sum()"
   ]
  },
  {
   "cell_type": "code",
   "execution_count": 10,
   "id": "06cf44f4",
   "metadata": {},
   "outputs": [
    {
     "data": {
      "text/plain": [
       "id                    0\n",
       "vendor_id             0\n",
       "pickup_datetime       0\n",
       "passenger_count       0\n",
       "pickup_longitude      0\n",
       "pickup_latitude       0\n",
       "dropoff_longitude     0\n",
       "dropoff_latitude      0\n",
       "store_and_fwd_flag    0\n",
       "dtype: int64"
      ]
     },
     "execution_count": 10,
     "metadata": {},
     "output_type": "execute_result"
    }
   ],
   "source": [
    "test.isnull().sum()"
   ]
  },
  {
   "cell_type": "markdown",
   "id": "510e22b6",
   "metadata": {},
   "source": [
    "- There is no null value"
   ]
  },
  {
   "cell_type": "code",
   "execution_count": 11,
   "id": "9a035e9b",
   "metadata": {},
   "outputs": [],
   "source": [
    "train = train[train[\"passenger_count\"] != 0]"
   ]
  },
  {
   "cell_type": "code",
   "execution_count": 12,
   "id": "57d92e54",
   "metadata": {},
   "outputs": [],
   "source": [
    "# Convert the data type to datetime to analyze hourly and monthly data\n",
    "train[\"pickup_datetime\"] = pd.to_datetime(train[\"pickup_datetime\"])\n",
    "test[\"pickup_datetime\"] = pd.to_datetime(test[\"pickup_datetime\"])"
   ]
  },
  {
   "cell_type": "code",
   "execution_count": 13,
   "id": "d4f357b1",
   "metadata": {},
   "outputs": [],
   "source": [
    "# hourly\n",
    "train[\"hour\"] = train[\"pickup_datetime\"].dt.hour\n",
    "test[\"hour\"] = test[\"pickup_datetime\"].dt.hour"
   ]
  },
  {
   "cell_type": "code",
   "execution_count": 14,
   "id": "a64784ac",
   "metadata": {},
   "outputs": [],
   "source": [
    "# monthly\n",
    "train[\"month\"] = train[\"pickup_datetime\"].dt.month\n",
    "test[\"month\"] = test[\"pickup_datetime\"].dt.month"
   ]
  },
  {
   "cell_type": "code",
   "execution_count": 15,
   "id": "b5bad7ea",
   "metadata": {},
   "outputs": [],
   "source": [
    "# DayofWeek\n",
    "train[\"dayofweek\"] = train[\"pickup_datetime\"].dt.dayofweek\n",
    "test[\"dayofweek\"] = test[\"pickup_datetime\"].dt.dayofweek"
   ]
  },
  {
   "cell_type": "code",
   "execution_count": 16,
   "id": "cafbe1f9",
   "metadata": {},
   "outputs": [],
   "source": [
    "train[\"longitude_distance\"] = abs(train[\"pickup_longitude\"] - train[\"dropoff_longitude\"])\n",
    "test[\"longitude_distance\"] = abs(test[\"pickup_longitude\"] - test[\"dropoff_longitude\"])"
   ]
  },
  {
   "cell_type": "code",
   "execution_count": 17,
   "id": "b50bf673",
   "metadata": {},
   "outputs": [],
   "source": [
    "train[\"latitude_distance\"] = abs(train[\"pickup_latitude\"] - train[\"dropoff_latitude\"])\n",
    "test[\"latitude_distance\"] = abs(test[\"pickup_latitude\"] - test[\"dropoff_latitude\"])"
   ]
  },
  {
   "cell_type": "markdown",
   "id": "5a59ac38",
   "metadata": {},
   "source": [
    "- Since distance is good measurement for trip duration, we calculated the distances using longitude and latitude data.\n",
    "- We will normalize this data later on."
   ]
  },
  {
   "cell_type": "code",
   "execution_count": 18,
   "id": "1d7b568d",
   "metadata": {},
   "outputs": [],
   "source": [
    "# Convert the object data type to the category data type\n",
    "train[\"store_and_fwd_flag\"] = train[\"store_and_fwd_flag\"].astype('category')\n",
    "test[\"store_and_fwd_flag\"] = test[\"store_and_fwd_flag\"].astype('category')\n",
    "# Create dummy columns and add back to the dataframe\n",
    "train = pd.concat([train, pd.get_dummies(train[\"store_and_fwd_flag\"])], axis=1)\n",
    "test = pd.concat([test, pd.get_dummies(test[\"store_and_fwd_flag\"])], axis=1)"
   ]
  },
  {
   "cell_type": "code",
   "execution_count": 19,
   "id": "74f368ec",
   "metadata": {},
   "outputs": [],
   "source": [
    "# Revove unnecessary columns\n",
    "train = train.drop([\"pickup_datetime\", \"dropoff_datetime\", \"pickup_longitude\", \"pickup_latitude\", \"dropoff_longitude\", \n",
    "                    \"dropoff_latitude\", \"store_and_fwd_flag\"], axis=1)\n",
    "test = test.drop([\"pickup_datetime\", \"pickup_longitude\", \"pickup_latitude\", \"dropoff_longitude\", \n",
    "                    \"dropoff_latitude\", \"store_and_fwd_flag\"], axis=1)"
   ]
  },
  {
   "cell_type": "markdown",
   "id": "dd3213e9",
   "metadata": {},
   "source": [
    "## Data Exploration"
   ]
  },
  {
   "cell_type": "code",
   "execution_count": 20,
   "id": "c71917ac",
   "metadata": {},
   "outputs": [
    {
     "data": {
      "image/png": "[encoded data removed]",
      "text/plain": [
       "<Figure size 432x288 with 1 Axes>"
      ]
     },
     "metadata": {
      "needs_background": "light"
     },
     "output_type": "display_data"
    }
   ],
   "source": [
    "import matplotlib.pyplot as plt\n",
    "train.groupby(\"vendor_id\").mean()[\"trip_duration\"].plot.bar()\n",
    "plt.show()"
   ]
  },
  {
   "cell_type": "code",
   "execution_count": 21,
   "id": "5bee4937",
   "metadata": {},
   "outputs": [
    {
     "data": {
      "image/png": "[encoded data removed]",
      "text/plain": [
       "<Figure size 864x288 with 2 Axes>"
      ]
     },
     "metadata": {
      "needs_background": "light"
     },
     "output_type": "display_data"
    }
   ],
   "source": [
    "plt.figure(figsize=(12, 4))\n",
    "\n",
    "plt.subplot(1, 2, 1)\n",
    "plt.scatter(train[\"trip_duration\"], train[\"longitude_distance\"])\n",
    "plt.xlim(0, 7500)\n",
    "plt.ylim(0, 1)\n",
    "\n",
    "\n",
    "plt.subplot(1, 2, 2)\n",
    "plt.scatter(train[\"trip_duration\"], train[\"latitude_distance\"])\n",
    "plt.xlim(0, 7500)\n",
    "plt.ylim(0, 1)\n",
    "\n",
    "plt.show()"
   ]
  },
  {
   "cell_type": "markdown",
   "id": "2aa8fe76",
   "metadata": {},
   "source": [
    "We can that the trip durations increase proportionally in some case when the distance increase.\n",
    "However, in many cases, the duration is long regardless of the distance. It shows that other factors such as traffic congestion, whether, etc affect the trip duration."
   ]
  },
  {
   "cell_type": "code",
   "execution_count": 22,
   "id": "9dc6d989",
   "metadata": {},
   "outputs": [
    {
     "data": {
      "image/png": "[encoded data removed]",
      "text/plain": [
       "<Figure size 432x288 with 1 Axes>"
      ]
     },
     "metadata": {
      "needs_background": "light"
     },
     "output_type": "display_data"
    }
   ],
   "source": [
    "train.groupby(\"hour\").mean()[\"trip_duration\"].plot.bar()\n",
    "plt.show()"
   ]
  },
  {
   "cell_type": "markdown",
   "id": "b208be39",
   "metadata": {},
   "source": [
    "We can see that the trip durations are short during the night and long during the daytime. "
   ]
  },
  {
   "cell_type": "code",
   "execution_count": 23,
   "id": "134cb5c1",
   "metadata": {},
   "outputs": [
    {
     "data": {
      "image/png": "[encoded data removed]",
      "text/plain": [
       "<Figure size 432x288 with 1 Axes>"
      ]
     },
     "metadata": {
      "needs_background": "light"
     },
     "output_type": "display_data"
    }
   ],
   "source": [
    "train.groupby(\"month\").mean()[\"trip_duration\"].plot.bar()\n",
    "plt.show()"
   ]
  },
  {
   "cell_type": "markdown",
   "id": "f3780ba6",
   "metadata": {},
   "source": [
    "We can assume that there is more traffic when it's warm. "
   ]
  },
  {
   "cell_type": "code",
   "execution_count": 24,
   "id": "9ba73227",
   "metadata": {},
   "outputs": [
    {
     "data": {
      "image/png": "[encoded data removed]",
      "text/plain": [
       "<Figure size 432x288 with 1 Axes>"
      ]
     },
     "metadata": {
      "needs_background": "light"
     },
     "output_type": "display_data"
    }
   ],
   "source": [
    "train.groupby(\"dayofweek\").mean()[\"trip_duration\"].plot.bar()\n",
    "plt.show()"
   ]
  },
  {
   "cell_type": "markdown",
   "id": "4506bada",
   "metadata": {},
   "source": [
    "- 0: Sunday, 6: Saturday\n",
    "- Trip durations tend to be short at weekend. "
   ]
  },
  {
   "cell_type": "code",
   "execution_count": 25,
   "id": "434c269a",
   "metadata": {},
   "outputs": [
    {
     "data": {
      "image/png": "[encoded data removed]",
      "text/plain": [
       "<Figure size 432x288 with 1 Axes>"
      ]
     },
     "metadata": {
      "needs_background": "light"
     },
     "output_type": "display_data"
    }
   ],
   "source": [
    "train.groupby(\"passenger_count\").mean()[\"trip_duration\"].plot.bar()\n",
    "plt.show()"
   ]
  },
  {
   "cell_type": "markdown",
   "id": "72726259",
   "metadata": {},
   "source": [
    "## Modeling"
   ]
  },
  {
   "cell_type": "code",
   "execution_count": 26,
   "id": "18994740",
   "metadata": {},
   "outputs": [],
   "source": [
    "# Normalize numeric values \n",
    "from sklearn.preprocessing import minmax_scale\n",
    "\n",
    "numeric_columns = [\"passenger_count\", \"longitude_distance\", \"latitude_distance\"]\n",
    "\n",
    "for col in numeric_columns:\n",
    "    train[col + \"_scaled\"] = minmax_scale(train[col])\n",
    "    test[col + \"_scaled\"] = minmax_scale(test[col])"
   ]
  },
  {
   "cell_type": "code",
   "execution_count": 27,
   "id": "a5cc9587",
   "metadata": {},
   "outputs": [
    {
     "name": "stdout",
     "output_type": "stream",
     "text": [
      "<class 'pandas.core.frame.DataFrame'>\n",
      "Int64Index: 1458584 entries, 0 to 1458643\n",
      "Data columns (total 14 columns):\n",
      " #   Column                     Non-Null Count    Dtype  \n",
      "---  ------                     --------------    -----  \n",
      " 0   id                         1458584 non-null  object \n",
      " 1   vendor_id                  1458584 non-null  int64  \n",
      " 2   passenger_count            1458584 non-null  int64  \n",
      " 3   trip_duration              1458584 non-null  int64  \n",
      " 4   hour                       1458584 non-null  int64  \n",
      " 5   month                      1458584 non-null  int64  \n",
      " 6   dayofweek                  1458584 non-null  int64  \n",
      " 7   longitude_distance         1458584 non-null  float64\n",
      " 8   latitude_distance          1458584 non-null  float64\n",
      " 9   N                          1458584 non-null  uint8  \n",
      " 10  Y                          1458584 non-null  uint8  \n",
      " 11  passenger_count_scaled     1458584 non-null  float64\n",
      " 12  longitude_distance_scaled  1458584 non-null  float64\n",
      " 13  latitude_distance_scaled   1458584 non-null  float64\n",
      "dtypes: float64(5), int64(6), object(1), uint8(2)\n",
      "memory usage: 147.4+ MB\n"
     ]
    }
   ],
   "source": [
    "train.info()"
   ]
  },
  {
   "cell_type": "code",
   "execution_count": 28,
   "id": "6c5dccf9",
   "metadata": {},
   "outputs": [],
   "source": [
    "# The values in the four columns below don't have order but model may recognize like that so we create dummy variables for them.\n",
    "def create_dummies(df,column_name):\n",
    "    dummies = pd.get_dummies(df[column_name],prefix=column_name)\n",
    "    df = pd.concat([df,dummies],axis=1)\n",
    "    return df\n",
    "\n",
    "train = create_dummies(train,\"vendor_id\")\n",
    "test = create_dummies(test,\"vendor_id\")\n",
    "train = create_dummies(train,\"hour\")\n",
    "test = create_dummies(test,\"hour\")\n",
    "train = create_dummies(train,\"month\")\n",
    "test = create_dummies(test,\"month\")\n",
    "train = create_dummies(train,\"dayofweek\")\n",
    "test = create_dummies(test,\"dayofweek\")"
   ]
  },
  {
   "cell_type": "code",
   "execution_count": 29,
   "id": "fd70db81",
   "metadata": {},
   "outputs": [],
   "source": [
    "# Revove unnecessary columns\n",
    "train = train.drop([\"vendor_id\", \"hour\", \"month\", \"dayofweek\"], axis=1)\n",
    "test = test.drop([\"vendor_id\", \"hour\", \"month\", \"dayofweek\"], axis=1)"
   ]
  },
  {
   "cell_type": "code",
   "execution_count": 30,
   "id": "16c6d59d",
   "metadata": {},
   "outputs": [],
   "source": [
    "features = [c for c in train.columns if c not in ['trip_duration', 'id']]"
   ]
  },
  {
   "cell_type": "code",
   "execution_count": 31,
   "id": "a66034c2",
   "metadata": {},
   "outputs": [],
   "source": [
    "all_X = train[features]\n",
    "all_y = train[\"trip_duration\"]\n",
    "holdout_X = test[features]"
   ]
  },
  {
   "cell_type": "markdown",
   "id": "13fc58d4",
   "metadata": {},
   "source": [
    "- ## Penalized Regression - Ridge"
   ]
  },
  {
   "cell_type": "code",
   "execution_count": 32,
   "id": "192ec8e0",
   "metadata": {},
   "outputs": [],
   "source": [
    "from sklearn.feature_selection import RFECV\n",
    "from sklearn.linear_model import Ridge\n",
    "ridge = Ridge()\n",
    "selector = RFECV(ridge,cv=5)\n",
    "selector.fit(all_X,all_y)\n",
    "\n",
    "optimized_columns = all_X.columns[selector.support_]\n",
    "all_X_rd = all_X[optimized_columns]\n",
    "holdout_X_rd = holdout_X[optimized_columns]"
   ]
  },
  {
   "cell_type": "code",
   "execution_count": 34,
   "id": "8a553521",
   "metadata": {},
   "outputs": [
    {
     "name": "stdout",
     "output_type": "stream",
     "text": [
      "RMSE: 5211.186225431908\n",
      "R-Squared 0.01602424988533342\n"
     ]
    }
   ],
   "source": [
    "from sklearn.metrics import mean_squared_error\n",
    "from sklearn.model_selection import cross_val_score\n",
    "import numpy as np\n",
    "ridge = Ridge().fit(all_X_rd, all_y)\n",
    "predictions = ridge.predict(all_X_rd)\n",
    "mse_value = mean_squared_error(all_y, predictions)\n",
    "ridge_rmse = np.sqrt(mse_value)\n",
    "print('RMSE:', ridge_rmse)\n",
    "print('R-Squared', np.mean(cross_val_score(ridge, all_X_rd, all_y ,cv=5)))"
   ]
  },
  {
   "cell_type": "code",
   "execution_count": 35,
   "id": "3c65c0c4",
   "metadata": {},
   "outputs": [],
   "source": [
    "holdout_predictions = ridge.predict(holdout_X_rd)\n",
    "\n",
    "holdout_ids = test[\"id\"]\n",
    "submission_df = {\"id\": holdout_ids,\n",
    "                 \"trip_duration\": holdout_predictions}\n",
    "submission = pd.DataFrame(submission_df)\n",
    "\n",
    "submission.to_csv(\"submission_rd.csv\",index=False)\n",
    "# 0.68573"
   ]
  },
  {
   "cell_type": "markdown",
   "id": "626f0ab1",
   "metadata": {},
   "source": [
    "- ## Penalized Regression - Lasso"
   ]
  },
  {
   "cell_type": "code",
   "execution_count": 36,
   "id": "188a8fe2",
   "metadata": {},
   "outputs": [],
   "source": [
    "from sklearn.linear_model import Lasso\n",
    "lasso = Lasso()\n",
    "selector = RFECV(lasso,cv=5)\n",
    "selector.fit(all_X,all_y)\n",
    "\n",
    "optimized_columns = all_X.columns[selector.support_]\n",
    "all_X_ls = all_X[optimized_columns]\n",
    "holdout_X_ls = holdout_X[optimized_columns]"
   ]
  },
  {
   "cell_type": "code",
   "execution_count": 37,
   "id": "3c38b78e",
   "metadata": {},
   "outputs": [
    {
     "name": "stdout",
     "output_type": "stream",
     "text": [
      "RMSE: 5211.415571578444\n",
      "R-Squared 0.01594497209708181\n"
     ]
    }
   ],
   "source": [
    "lasso = Lasso().fit(all_X_rd, all_y)\n",
    "predictions = lasso.predict(all_X_rd)\n",
    "mse_value = mean_squared_error(all_y, predictions)\n",
    "lasso_rmse = np.sqrt(mse_value)\n",
    "print('RMSE:', lasso_rmse)\n",
    "print('R-Squared', np.mean(cross_val_score(lasso, all_X_rd, all_y ,cv=5)))"
   ]
  },
  {
   "cell_type": "code",
   "execution_count": 38,
   "id": "3da76ebe",
   "metadata": {},
   "outputs": [],
   "source": [
    "holdout_predictions = lasso.predict(holdout_X_rd)\n",
    "\n",
    "holdout_ids = test[\"id\"]\n",
    "submission_df = {\"id\": holdout_ids,\n",
    "                 \"trip_duration\": holdout_predictions}\n",
    "submission = pd.DataFrame(submission_df)\n",
    "\n",
    "submission.to_csv(\"submission_ls.csv\",index=False)\n",
    "# 0.70155"
   ]
  },
  {
   "cell_type": "markdown",
   "id": "0d49243c",
   "metadata": {},
   "source": [
    "- ## Stochastic Gradient Descent Regression"
   ]
  },
  {
   "cell_type": "code",
   "execution_count": 39,
   "id": "25724f92",
   "metadata": {},
   "outputs": [
    {
     "name": "stdout",
     "output_type": "stream",
     "text": [
      "RMSE: 5213.7299583594895\n",
      "R-Squared 0.015463551158967248\n"
     ]
    }
   ],
   "source": [
    "from sklearn.linear_model import SGDRegressor\n",
    "sgd = SGDRegressor(warm_start=True)\n",
    "sgd.fit(all_X, all_y)\n",
    "predictions = sgd.predict(all_X)\n",
    "mse_value = mean_squared_error(all_y, predictions)\n",
    "sgd_rmse = np.sqrt(mse_value)\n",
    "print('RMSE:', sgd_rmse)\n",
    "print('R-Squared', np.mean(cross_val_score(sgd, all_X, all_y, cv=5)))"
   ]
  },
  {
   "cell_type": "code",
   "execution_count": 40,
   "id": "452e1c51",
   "metadata": {},
   "outputs": [],
   "source": [
    "holdout_predictions = sgd.predict(holdout_X)\n",
    "\n",
    "holdout_ids = test[\"id\"]\n",
    "submission_df = {\"id\": holdout_ids,\n",
    "                 \"trip_duration\": holdout_predictions}\n",
    "submission = pd.DataFrame(submission_df)\n",
    "\n",
    "submission.to_csv(\"submission_sgd.csv\",index=False)\n",
    "# 0.65822"
   ]
  },
  {
   "cell_type": "markdown",
   "id": "08b1cc03",
   "metadata": {},
   "source": [
    "- ## Neural Networks"
   ]
  },
  {
   "cell_type": "code",
   "execution_count": 41,
   "id": "6afa844b",
   "metadata": {},
   "outputs": [
    {
     "name": "stdout",
     "output_type": "stream",
     "text": [
      "RMSE: 5206.515200229587\n",
      "R-Squared 0.019193733141056123\n"
     ]
    }
   ],
   "source": [
    "from sklearn.metrics import mean_squared_error\n",
    "import numpy as np\n",
    "\n",
    "from sklearn.neural_network import MLPRegressor\n",
    "regr = MLPRegressor(early_stopping=True, random_state=1)\n",
    "regr.fit(all_X, all_y)\n",
    "predictions = regr.predict(all_X)\n",
    "mse_value = mean_squared_error(all_y, predictions)\n",
    "nn_rmse = np.sqrt(mse_value)\n",
    "\n",
    "print('RMSE:' , nn_rmse)\n",
    "print('R-Squared', np.mean(cross_val_score(regr, all_X, all_y, cv=5)))"
   ]
  },
  {
   "cell_type": "code",
   "execution_count": 42,
   "id": "a91fe7e5",
   "metadata": {},
   "outputs": [],
   "source": [
    "holdout_predictions = regr.predict(holdout_X)\n",
    "\n",
    "holdout_ids = test[\"id\"]\n",
    "submission_df = {\"id\": holdout_ids,\n",
    "                 \"trip_duration\": holdout_predictions}\n",
    "submission = pd.DataFrame(submission_df)\n",
    "\n",
    "submission.to_csv(\"submission_nn.csv\",index=False)\n",
    "# 0.61418"
   ]
  },
  {
   "cell_type": "code",
   "execution_count": 43,
   "id": "cfdbace9",
   "metadata": {},
   "outputs": [
    {
     "data": {
      "text/html": [
       "<div>\n",
       "<style scoped>\n",
       "    .dataframe tbody tr th:only-of-type {\n",
       "        vertical-align: middle;\n",
       "    }\n",
       "\n",
       "    .dataframe tbody tr th {\n",
       "        vertical-align: top;\n",
       "    }\n",
       "\n",
       "    .dataframe thead th {\n",
       "        text-align: right;\n",
       "    }\n",
       "</style>\n",
       "<table border=\"1\" class=\"dataframe\">\n",
       "  <thead>\n",
       "    <tr style=\"text-align: right;\">\n",
       "      <th></th>\n",
       "      <th>Root Mean Square Error</th>\n",
       "    </tr>\n",
       "  </thead>\n",
       "  <tbody>\n",
       "    <tr>\n",
       "      <th>Ridge</th>\n",
       "      <td>5211.186225</td>\n",
       "    </tr>\n",
       "    <tr>\n",
       "      <th>Lasso</th>\n",
       "      <td>5211.415572</td>\n",
       "    </tr>\n",
       "    <tr>\n",
       "      <th>SGD</th>\n",
       "      <td>5213.729958</td>\n",
       "    </tr>\n",
       "    <tr>\n",
       "      <th>Neural Networks</th>\n",
       "      <td>5206.515200</td>\n",
       "    </tr>\n",
       "  </tbody>\n",
       "</table>\n",
       "</div>"
      ],
      "text/plain": [
       "                 Root Mean Square Error\n",
       "Ridge                       5211.186225\n",
       "Lasso                       5211.415572\n",
       "SGD                         5213.729958\n",
       "Neural Networks             5206.515200"
      ]
     },
     "execution_count": 43,
     "metadata": {},
     "output_type": "execute_result"
    }
   ],
   "source": [
    "RMSE=[ridge_rmse, lasso_rmse, sgd_rmse, nn_rmse]\n",
    "col={'Root Mean Square Error': RMSE}\n",
    "models=['Ridge','Lasso','SGD', 'Neural Networks']\n",
    "dfplot=pd.DataFrame(data=col,index=models)\n",
    "dfplot"
   ]
  },
  {
   "cell_type": "markdown",
   "id": "1d549322",
   "metadata": {},
   "source": [
    "Neural Networks model has the lowest RMSE so it is our best model."
   ]
  },
  {
   "cell_type": "code",
   "execution_count": null,
   "id": "13c98cfb",
   "metadata": {},
   "outputs": [],
   "source": []
  }
 ],
 "metadata": {
  "kernelspec": {
   "display_name": "Python 3",
   "language": "python",
   "name": "python3"
  },
  "language_info": {
   "codemirror_mode": {
    "name": "ipython",
    "version": 3
   },
   "file_extension": ".py",
   "mimetype": "text/x-python",
   "name": "python",
   "nbconvert_exporter": "python",
   "pygments_lexer": "ipython3",
   "version": "3.8.8"
  }
 },
 "nbformat": 4,
 "nbformat_minor": 5
}
